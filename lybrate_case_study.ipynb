{
 "cells": [
  {
   "cell_type": "code",
   "execution_count": 2,
   "metadata": {
    "collapsed": true
   },
   "outputs": [],
   "source": [
    "# ipoting the libraries\n",
    "import numpy as np\n",
    "import matplotlib.pyplot as plt\n",
    "import pandas as pd\n",
    "import seaborn as sns\n",
    "import os"
   ]
  },
  {
   "cell_type": "code",
   "execution_count": 3,
   "metadata": {
    "collapsed": true
   },
   "outputs": [],
   "source": [
    "#changing the directory to the directory where the dataset is present\n",
    "os.chdir(\"/Users/divyanshraj/Desktop\")\n",
    "\n"
   ]
  },
  {
   "cell_type": "code",
   "execution_count": 57,
   "metadata": {
    "collapsed": false
   },
   "outputs": [],
   "source": [
    "# reading the csv file using pandas\n",
    "df = pd.read_csv(\"case_study_lybrate.csv\",converters={\"result\": lambda x: x.strip(\"[]\").replace(\"'\",\"\").split(\", \")})\n",
    "\n"
   ]
  },
  {
   "cell_type": "code",
   "execution_count": 5,
   "metadata": {
    "collapsed": true
   },
   "outputs": [],
   "source": [
    "#adding all the labels to the genres list \n",
    "genres = []\n",
    "for i in df['result']:\n",
    "    genres.append(i)\n",
    "\n",
    "\n"
   ]
  },
  {
   "cell_type": "code",
   "execution_count": 6,
   "metadata": {
    "collapsed": false
   },
   "outputs": [
    {
     "data": {
      "text/plain": [
       "[['Greying Hair'],\n",
       " ['Depression'],\n",
       " ['Pregnant'],\n",
       " ['Difficulty Sleeping'],\n",
       " ['Cold Cough'],\n",
       " ['Anxiety'],\n",
       " ['Itching'],\n",
       " ['HIV AIDS'],\n",
       " ['Skin Whitening'],\n",
       " ['Sore Throat'],\n",
       " ['Sneezing'],\n",
       " ['Pregnant'],\n",
       " ['Sex Education'],\n",
       " ['Sex Education'],\n",
       " ['Abortion'],\n",
       " ['Stomach Pain'],\n",
       " ['Acne/Pimples'],\n",
       " ['Thyroid Disorders'],\n",
       " ['Chest Pain'],\n",
       " ['Lose Weight'],\n",
       " ['No Periods'],\n",
       " ['Lose Weight'],\n",
       " ['Nightfall'],\n",
       " ['Premature Ejaculation'],\n",
       " ['Gain Weight'],\n",
       " ['Cancer'],\n",
       " ['Masturbation Addiction'],\n",
       " ['Headaches'],\n",
       " ['Acne/Pimples'],\n",
       " ['Greying Hair'],\n",
       " ['Allergy'],\n",
       " ['Joint Pain'],\n",
       " ['Leg Pain'],\n",
       " ['No Periods'],\n",
       " ['Depression'],\n",
       " ['Erectile Dysfunction'],\n",
       " ['Skin Infections'],\n",
       " ['Caring for Infants (0-1 yrs)'],\n",
       " ['Thyroid Disorders'],\n",
       " ['Kidney Stones'],\n",
       " ['Small Penis Size'],\n",
       " ['Staying Healthy'],\n",
       " ['Premature Ejaculation'],\n",
       " ['Male Sexual Problems'],\n",
       " ['Heart Attack'],\n",
       " ['Sex Education'],\n",
       " ['Infertility'],\n",
       " ['Trying to Conceive'],\n",
       " ['Flap Surgery'],\n",
       " ['Polycystic Ovary Syndrome'],\n",
       " ['Erectile Dysfunction'],\n",
       " ['Increase Stamina'],\n",
       " ['Hypothyroid Treatment'],\n",
       " ['Pigmented Skin'],\n",
       " ['Infertility in Women'],\n",
       " ['Pregnant'],\n",
       " ['Thyroid Disorders'],\n",
       " ['Female Hair Loss'],\n",
       " ['Male Sexual Problems'],\n",
       " ['Stomach Pain'],\n",
       " ['Sweating'],\n",
       " ['Lose Weight'],\n",
       " ['Undescended Testis '],\n",
       " ['Womens Health'],\n",
       " ['Digestive Disorders'],\n",
       " ['Ketogenic Diet'],\n",
       " ['Drooling'],\n",
       " ['Arm Pain'],\n",
       " ['Small Penis Size'],\n",
       " ['Stomach Pain'],\n",
       " ['Sex Education'],\n",
       " ['Sex Education'],\n",
       " ['Breast Enhancement'],\n",
       " ['Pregnant'],\n",
       " ['Sex Education'],\n",
       " ['Caring for Toddlers (1-3 yrs)'],\n",
       " ['Sex Education'],\n",
       " ['Hair Health'],\n",
       " ['Irregular Heartbeat'],\n",
       " ['Migraine'],\n",
       " ['Heel Pain'],\n",
       " ['Birth Control Pills'],\n",
       " ['Small Penis Size'],\n",
       " ['Snoring'],\n",
       " ['Teeth Reshaping'],\n",
       " ['Vertigo'],\n",
       " ['Dilatation And Curettage (D  C)'],\n",
       " ['increaseconcentration'],\n",
       " ['Breast Lift'],\n",
       " ['Nightfall'],\n",
       " ['Cancer'],\n",
       " ['Sugar'],\n",
       " ['Myopathy'],\n",
       " ['Growing beard '],\n",
       " ['Diabetes'],\n",
       " ['Baldness', 'Depression'],\n",
       " ['Myopathy'],\n",
       " ['Oily Skin'],\n",
       " ['Back Pain'],\n",
       " ['Anxiety and Depression', 'No Periods'],\n",
       " ['Dark Skin'],\n",
       " ['Sex Education'],\n",
       " ['Diarrhoea'],\n",
       " ['Acne/Pimples'],\n",
       " ['Fever'],\n",
       " ['Arthritis'],\n",
       " ['Irregular Heartbeat', 'Palpitations'],\n",
       " ['Hypogonadism', 'Fertility'],\n",
       " ['Anus Infection'],\n",
       " ['Sleeping Well'],\n",
       " ['Finger Pain'],\n",
       " ['hypertension'],\n",
       " ['Rabies'],\n",
       " ['Mental Disorders'],\n",
       " ['Chest Pain'],\n",
       " ['Viagra'],\n",
       " ['Itching', 'Vaginal Infection'],\n",
       " ['Polycystic Ovary Syndrome'],\n",
       " ['Pregnancy Query', 'Premature Ejaculation'],\n",
       " ['Knee Pain'],\n",
       " ['Premature Ejaculation'],\n",
       " ['Birth Control Pills'],\n",
       " ['Pregnant'],\n",
       " ['Loss Of Libido'],\n",
       " ['Back Pain'],\n",
       " ['Pregnant'],\n",
       " ['Nightfall'],\n",
       " ['Pregnant', 'Pregnancy'],\n",
       " ['Head Injury (Head Trauma)', 'Vomiting '],\n",
       " ['Body Weakness'],\n",
       " ['Vaginal Itching'],\n",
       " ['Hair Fall'],\n",
       " ['Hyperthyroidism', 'Lose Weight'],\n",
       " ['Acne/Pimples'],\n",
       " ['Body Weakness'],\n",
       " ['White Discharge Problem'],\n",
       " ['Dandruff'],\n",
       " ['Colds'],\n",
       " ['Skin Health'],\n",
       " ['Eye Floaters'],\n",
       " ['Pigmented Skin'],\n",
       " ['Irregular Heartbeat'],\n",
       " ['Sex Education'],\n",
       " ['Melasma', 'Acne/Pimples'],\n",
       " ['Pregnant'],\n",
       " ['Healthy Pregnancy'],\n",
       " ['Masturbation Addiction'],\n",
       " ['Erectile Dysfunction'],\n",
       " ['Anxiety'],\n",
       " ['No Periods'],\n",
       " ['Arm Pain'],\n",
       " ['Acne/Pimples'],\n",
       " ['No Periods'],\n",
       " ['Painful Periods'],\n",
       " ['Poor Eye Sight'],\n",
       " ['Cough'],\n",
       " ['Bronchitis'],\n",
       " ['Acid Reflux'],\n",
       " ['Small Penis Size'],\n",
       " ['Depression'],\n",
       " ['Oily Skin'],\n",
       " ['Appendicitis'],\n",
       " ['GERD'],\n",
       " ['Headaches'],\n",
       " ['HIV AIDS'],\n",
       " ['Sex Education'],\n",
       " ['Hypercholesterolemia'],\n",
       " ['Headaches'],\n",
       " ['Pregnancy Query'],\n",
       " ['Gain Weight'],\n",
       " ['Diet Chart'],\n",
       " ['Acne/Pimples'],\n",
       " ['Toothache'],\n",
       " ['Female Hair Loss'],\n",
       " ['Snake Bite'],\n",
       " ['Avoid Pregnancy '],\n",
       " ['Scrotal Swelling'],\n",
       " ['Sex Education', 'Pregnancy Query'],\n",
       " ['Sex Education'],\n",
       " ['Poor Eye Sight'],\n",
       " ['Gastric Problem'],\n",
       " ['Tight Foreskin'],\n",
       " ['Hepatitis A'],\n",
       " ['Toothache'],\n",
       " ['Sex Addiction Counselling'],\n",
       " ['Sex Education'],\n",
       " ['Blood in Stools'],\n",
       " ['Tight Foreskin'],\n",
       " ['Gain Weight'],\n",
       " ['Kidney Disease', 'breastlumps'],\n",
       " ['Lose Weight'],\n",
       " ['Bone Fracture'],\n",
       " ['Pregnancy Query', 'No Periods'],\n",
       " ['Bleeding Gums'],\n",
       " ['Small Penis Size'],\n",
       " ['Eye Pain'],\n",
       " ['Skin Health'],\n",
       " ['Tuberculosis'],\n",
       " ['Gain Weight'],\n",
       " ['Nail infection'],\n",
       " ['Skin Infections', 'Rashes'],\n",
       " ['Gastric Problem'],\n",
       " ['Vertigo Treatment'],\n",
       " ['Black Spots on Skin'],\n",
       " ['Schizophrenia'],\n",
       " ['Small Penis Size'],\n",
       " ['Fatty Liver', 'liverdisease'],\n",
       " ['Smoking'],\n",
       " ['Sex Education'],\n",
       " ['Premature Ejaculation', 'Sexual Weakness'],\n",
       " ['Vitiligo'],\n",
       " ['Sex Education'],\n",
       " ['High Sugar'],\n",
       " ['Poor Eye Sight'],\n",
       " ['Sexual Weakness'],\n",
       " ['Hemorrhoids'],\n",
       " ['Erectile Dysfunction'],\n",
       " ['Skin Whitening'],\n",
       " ['Birth Control Pills'],\n",
       " ['Skin Whitening'],\n",
       " ['Eye Floaters'],\n",
       " ['Swelling of Legs'],\n",
       " ['Masturbation Addiction'],\n",
       " ['Joint Pain'],\n",
       " ['Masturbation Addiction'],\n",
       " ['No Periods'],\n",
       " ['Increase Muscle'],\n",
       " ['No Periods'],\n",
       " ['Swelling of Legs'],\n",
       " ['cough'],\n",
       " ['Masturbation Addiction'],\n",
       " ['Staying Healthy'],\n",
       " ['Small Penis Size'],\n",
       " ['Cough'],\n",
       " ['Delivery', 'White Discharge Problem'],\n",
       " ['Blood in Stools'],\n",
       " ['Skin Health'],\n",
       " ['Penile Disorders'],\n",
       " ['veterinaryservices'],\n",
       " ['Bacterial Infections'],\n",
       " ['Eczema'],\n",
       " ['Testicular Pain'],\n",
       " ['Acne/Pimples'],\n",
       " ['Digestive Disorders', 'unabletogainweight'],\n",
       " ['Liver Disease'],\n",
       " ['Bone Fracture'],\n",
       " ['Masturbation Addiction'],\n",
       " ['Chest Pain'],\n",
       " ['Anger Management'],\n",
       " ['Red Eyes'],\n",
       " ['Pregnancy Query', 'Pregnant'],\n",
       " ['Gain Weight'],\n",
       " ['Small Penis Size'],\n",
       " ['Pregnancy Query', 'No Periods'],\n",
       " ['Stomach Pain'],\n",
       " ['Small Penis Size'],\n",
       " ['Myopia'],\n",
       " ['Knee Pain'],\n",
       " ['Masturbation Addiction'],\n",
       " ['Gain Weight'],\n",
       " ['Stomach Pain'],\n",
       " ['Burns'],\n",
       " ['Urinary Tract Infection'],\n",
       " ['Vaginal Infection'],\n",
       " ['Avoid Pregnancy '],\n",
       " ['Asthma', 'Cough'],\n",
       " ['Acne Scars'],\n",
       " ['Itching'],\n",
       " ['Smoking'],\n",
       " ['Asthma'],\n",
       " ['piles'],\n",
       " ['Sex Education'],\n",
       " ['Cold Cough'],\n",
       " ['Sex Education'],\n",
       " ['Increase height'],\n",
       " ['Premature Ejaculation'],\n",
       " ['Fever'],\n",
       " ['Menopause'],\n",
       " ['Lose Weight'],\n",
       " ['Kidney Stones'],\n",
       " ['Birth Control Pills'],\n",
       " ['Lose Weight'],\n",
       " ['Erectile Dysfunction'],\n",
       " ['Diabetes'],\n",
       " ['hypothyroidtreatment'],\n",
       " ['Anxiety', 'Mood Disorder'],\n",
       " ['Penile Disorders'],\n",
       " ['Headaches'],\n",
       " ['Pregnant'],\n",
       " ['Forgetfulness'],\n",
       " ['Erectile Dysfunction'],\n",
       " ['Small Penis Size'],\n",
       " ['Depression'],\n",
       " ['masturbationaddiction'],\n",
       " ['Thalassemia'],\n",
       " ['Increase Stamina', 'Diet'],\n",
       " ['Irregular Periods'],\n",
       " ['skinrash'],\n",
       " ['Diet Chart'],\n",
       " ['No Periods'],\n",
       " ['Erection Problems'],\n",
       " ['Painful Periods'],\n",
       " ['Frequent Urination'],\n",
       " ['Sneezing'],\n",
       " ['Acidity'],\n",
       " ['Lose Weight'],\n",
       " ['Erection Problems'],\n",
       " ['Lose Weight'],\n",
       " ['Delay Periods '],\n",
       " ['Toothache'],\n",
       " ['Headaches'],\n",
       " ['Erectile Dysfunction'],\n",
       " ['Vaginal Infection'],\n",
       " ['Womens Health'],\n",
       " ['Pregnancy Query'],\n",
       " ['Abortion'],\n",
       " ['Suntan', 'Itching'],\n",
       " ['HIV AIDS'],\n",
       " ['Bitter Taste in the Mouth', 'burningsensationinstomach'],\n",
       " ['Sex Education'],\n",
       " ['Acidity'],\n",
       " ['Thalassemia', 'Medical Diseases In Pregnancy'],\n",
       " ['Skin Infections'],\n",
       " ['Swelling of Legs'],\n",
       " ['Penile Disorders', 'Male Sexual Problems Treatment'],\n",
       " ['Hair Growth'],\n",
       " ['Nightfall'],\n",
       " ['Ringworm Infection'],\n",
       " ['Acne/Pimples'],\n",
       " ['Nail infection'],\n",
       " ['Stress'],\n",
       " ['Hair Fall'],\n",
       " ['Leg Pain', 'Heel Pain'],\n",
       " ['Headaches'],\n",
       " ['Genital Herpes', 'Staying Healthy'],\n",
       " ['Keloid'],\n",
       " ['Glowing Skin'],\n",
       " ['stomachpain'],\n",
       " ['Glowing Skin'],\n",
       " ['Tight Foreskin'],\n",
       " ['Quit Tobacco'],\n",
       " ['Sweating'],\n",
       " ['Glowing Skin'],\n",
       " ['stomachpain'],\n",
       " ['Ear Pain'],\n",
       " ['Allergy'],\n",
       " ['Back Pain'],\n",
       " ['High Cholesterol'],\n",
       " ['Back Pain'],\n",
       " ['Infection'],\n",
       " ['Uterine Bleeding'],\n",
       " ['Medical Diseases In Pregnancy', 'hypertensioninpregnancy'],\n",
       " ['Itching'],\n",
       " ['Knee Ligament Reconstruction', 'Knee replacement'],\n",
       " ['Erectile Dysfunction'],\n",
       " ['Sexually-Transmitted Diseases', 'Vaginal Itching'],\n",
       " ['behaviourandthoughtproblems'],\n",
       " ['Lose Weight'],\n",
       " ['LASIK Surgery Treatment'],\n",
       " ['Hair Loss'],\n",
       " ['Fungal Infection'],\n",
       " ['Penis Pain'],\n",
       " ['Caring for Infants (0-1 yrs)'],\n",
       " ['Sexual Weakness'],\n",
       " ['Throat Ache'],\n",
       " ['Throat Ache'],\n",
       " ['pregnancy'],\n",
       " ['caringforinfants01yrs'],\n",
       " ['Throat Ache'],\n",
       " ['Pilonidal Sinus'],\n",
       " ['Sex Education'],\n",
       " ['Unable to Gain weight'],\n",
       " ['Stomach Pain'],\n",
       " ['Stomach Pain'],\n",
       " ['Masturbation Addiction'],\n",
       " ['Hangover'],\n",
       " ['diabetes'],\n",
       " ['Small Penis Size'],\n",
       " ['Increase height'],\n",
       " ['Increase height'],\n",
       " ['Baldness', 'Alopecia Areata Treatment'],\n",
       " ['Rosacea'],\n",
       " ['Intra Abdominal Infection'],\n",
       " ['Toothache'],\n",
       " ['Difficulty Swallowing', 'sorethroat'],\n",
       " ['Depression'],\n",
       " ['Increase height'],\n",
       " ['Numbness'],\n",
       " ['Skin Health'],\n",
       " ['Acne/Pimples'],\n",
       " ['cough'],\n",
       " ['Sore Throat'],\n",
       " ['Menstrual Problems Treatment', 'Irregular Periods'],\n",
       " ['Skin Whitening'],\n",
       " ['Sex Education'],\n",
       " ['Gain Weight'],\n",
       " ['Cough'],\n",
       " ['HIV AIDS'],\n",
       " ['Nose Bleed'],\n",
       " ['Caring for Toddlers (1-3 yrs)'],\n",
       " ['Small Penis Size'],\n",
       " ['Sex Education'],\n",
       " ['Sexually-Transmitted Diseases',\n",
       "  'Sexually Transmitted Disease (STD) Treatment'],\n",
       " ['Gain Weight'],\n",
       " ['Diarrhoea', 'Stomach Pain'],\n",
       " ['Health Check Up'],\n",
       " ['Sex Education'],\n",
       " ['Dark Skin'],\n",
       " ['Polycystic Ovary Syndrome', 'Pregnancy'],\n",
       " ['Nose Bleed'],\n",
       " ['Diet'],\n",
       " ['Small Penis Size', 'Masturbation Addiction'],\n",
       " ['Liver Disease'],\n",
       " ['Dark Skin', 'Acne Scars'],\n",
       " ['Dandruff'],\n",
       " ['Back Pain'],\n",
       " ['Sex Education'],\n",
       " ['Vaginal Tightening'],\n",
       " ['Vaginal Tightening'],\n",
       " ['Female Hair Loss'],\n",
       " ['Female Hair Loss'],\n",
       " ['Kidney Stones'],\n",
       " ['Poisoning'],\n",
       " ['Acne/Pimples'],\n",
       " ['Bacterial Infections'],\n",
       " ['Snoring'],\n",
       " ['Gynecomastia'],\n",
       " ['Small Penis Size'],\n",
       " ['Gynecomastia'],\n",
       " ['Genital Herpes'],\n",
       " ['Small Penis Size'],\n",
       " ['Chest Pain'],\n",
       " ['Hypertension'],\n",
       " ['Skin Infections'],\n",
       " ['Adjustment Disorder', 'marriagecounselling'],\n",
       " ['Nightfall'],\n",
       " ['Breast Enhancement'],\n",
       " ['Skin Health'],\n",
       " ['No Periods'],\n",
       " ['Black Spots on Skin', 'Dark Circle'],\n",
       " ['Small Penis Size'],\n",
       " ['Glowing Skin'],\n",
       " ['Staying Healthy'],\n",
       " ['Breast lumps'],\n",
       " ['Sex Education', 'Avoid Pregnancy'],\n",
       " ['Erectile Dysfunction'],\n",
       " ['Skin Health'],\n",
       " ['Acne Scars'],\n",
       " ['Increase Muscle'],\n",
       " ['Twitching '],\n",
       " ['Sensitive Bladder'],\n",
       " ['Minor Wounds'],\n",
       " ['ECG '],\n",
       " ['Fever'],\n",
       " ['Oily Skin'],\n",
       " ['Vitamin B Deficiency', 'Greying Hair'],\n",
       " ['Foot Pain'],\n",
       " ['Lose Weight'],\n",
       " ['Jaundice'],\n",
       " ['Pregnant'],\n",
       " ['Caring for Toddlers (1-3 yrs)', 'Dull Skin'],\n",
       " ['Sex Education'],\n",
       " ['Male Sexual Problems'],\n",
       " ['Female Hair Loss'],\n",
       " ['neurologicalproblems'],\n",
       " ['Erectile Dysfunction'],\n",
       " ['Lose Weight'],\n",
       " ['Infertility'],\n",
       " ['Acne/Pimples'],\n",
       " ['Pregnant'],\n",
       " ['Premature Ejaculation'],\n",
       " ['Depression'],\n",
       " ['Fungal Infection'],\n",
       " ['Gain Weight'],\n",
       " ['High Sugar'],\n",
       " ['Dark Circle'],\n",
       " ['Age-related Macular Degeneration'],\n",
       " ['Lose Weight'],\n",
       " ['Eye Infection'],\n",
       " ['Pregnant'],\n",
       " ['Rabies'],\n",
       " ['Leg Pain'],\n",
       " ['Breast Cancer'],\n",
       " ['Premature Ejaculation'],\n",
       " ['Skin Scars', 'Jock Itch'],\n",
       " ['Swelling in Toe', 'Joint Pain'],\n",
       " ['Headaches'],\n",
       " ['Irregular Periods'],\n",
       " ['Acne/Pimples'],\n",
       " ['Cataract'],\n",
       " ['Dry Cough'],\n",
       " ['Staying Healthy'],\n",
       " ['Female Hair Loss'],\n",
       " ['Leg Pain', 'Hydrocele'],\n",
       " ['Knee Pain'],\n",
       " ['mouthsores'],\n",
       " ['Mouth Sores'],\n",
       " ['Ovarian Cancer'],\n",
       " ['Type 2 Diabetes Treatment'],\n",
       " ['Caring for Infants (0-1 yrs)'],\n",
       " ['Sciatica', 'Leg Pain'],\n",
       " ['Shoulder Pain'],\n",
       " ['Itching', 'Weight Loss'],\n",
       " ['Tuberculosis'],\n",
       " ['Skin Lumps'],\n",
       " ['Genital Warts', 'Itching'],\n",
       " ['Anxiety'],\n",
       " ['Small Penis Size'],\n",
       " ['Diabetes'],\n",
       " ['Kidney Disease'],\n",
       " ['Blood in Urine', 'Masturbation Addiction'],\n",
       " ['Irregular Periods', 'Penile Disorders'],\n",
       " ['Sexually Transmitted Disease (STD) Treatment'],\n",
       " ['pooreyesight'],\n",
       " ['Dry Skin'],\n",
       " ['Lose Weight'],\n",
       " ['Penis Pain'],\n",
       " ['Ankle Sprain'],\n",
       " ['fattyliver'],\n",
       " ['Pimples'],\n",
       " ['Acne/Pimples'],\n",
       " ['Erection Problems'],\n",
       " ['Pregnancy Query'],\n",
       " ['Avoid Pregnancy '],\n",
       " ['masturbationaddiction'],\n",
       " ['Penile Disorders'],\n",
       " ['Stomach Pain'],\n",
       " ['Pregnant'],\n",
       " ['Acne/Pimples'],\n",
       " ['Masturbation Addiction'],\n",
       " ['Poisoning'],\n",
       " ['Chickenpox'],\n",
       " ['Teeth Straightening'],\n",
       " ['Chest Pain'],\n",
       " ['Small Penis Size'],\n",
       " ['Ear Pain'],\n",
       " ['Lose Weight'],\n",
       " ['Stomach Pain'],\n",
       " ['Digestive Disorders'],\n",
       " ['Gain Weight'],\n",
       " ['Neuropathy'],\n",
       " ['Pregnancy Query'],\n",
       " ['Chest Pain'],\n",
       " ['Personality Disorder'],\n",
       " ['Erection Problems'],\n",
       " ['Athletes Foot', 'Jock Itch'],\n",
       " ['Polycystic Ovary Syndrome'],\n",
       " ['Psoriasis'],\n",
       " ['Sexually Transmitted Disease (STD) Treatment'],\n",
       " ['Menstrual Problems Treatment'],\n",
       " ['Vitamin D Deficiency'],\n",
       " ['Breast Pain'],\n",
       " ['Heart Disease'],\n",
       " ['Mumps'],\n",
       " ['Masturbation Addiction'],\n",
       " ['Sunburn'],\n",
       " ['Overactive Urinary Bladder'],\n",
       " ['Fever'],\n",
       " ['Paralysis'],\n",
       " ['Lose Weight'],\n",
       " ['Seizures'],\n",
       " ['Bleeding Gums Treatment'],\n",
       " ['Erectile Dysfunction'],\n",
       " ['Kidney Disease'],\n",
       " ['Low Platelets'],\n",
       " ['legpain'],\n",
       " ['Caring for Toddlers (1-3 yrs)'],\n",
       " ['Bleeding'],\n",
       " ['Orthodontics'],\n",
       " ['Headaches'],\n",
       " ['Gain Weight'],\n",
       " ['Headaches'],\n",
       " ['Sex Education'],\n",
       " ['Hair Patch'],\n",
       " ['Acne/Pimples'],\n",
       " ['Back Pain'],\n",
       " ['Menstrual Problems Treatment'],\n",
       " ['Chickenpox'],\n",
       " ['Chickenpox'],\n",
       " ['Delay Periods '],\n",
       " ['Anemia', 'No Periods', 'burningsensationinstomach'],\n",
       " ['Stomach Pain'],\n",
       " ['Skin Health'],\n",
       " ['Vitamin D Deficiency'],\n",
       " ['Weight Management'],\n",
       " ['Body Weakness'],\n",
       " ['Wisdom Teeth'],\n",
       " ['Heart Disease', 'treatmentofblockageatherosclerosisandheartattack'],\n",
       " ['Nightfall'],\n",
       " ['Liver Disease'],\n",
       " ['Fever'],\n",
       " ['Lose Weight'],\n",
       " ['caringforinfants01yrs'],\n",
       " ['Stomach Pain'],\n",
       " ['LASIK Surgery '],\n",
       " ['Hemorrhoids', 'Piles '],\n",
       " ['Caring for Toddlers (1-3 yrs)', 'chronicskinallergy'],\n",
       " ['Anus Infection'],\n",
       " ['Stomach Pain'],\n",
       " ['Hair Loss'],\n",
       " ['Abortion'],\n",
       " ['Vaginal Infection', 'darkskin'],\n",
       " ['Prostatitis'],\n",
       " ['Herniated Disc'],\n",
       " ['Trying to Conceive'],\n",
       " ['Acne/Pimples'],\n",
       " ['Breast Pain'],\n",
       " ['Weight Loss'],\n",
       " ['Vaginal Discharge'],\n",
       " ['malesexualproblems'],\n",
       " ['Small Penis Size'],\n",
       " ['Small Penis Size'],\n",
       " ['Gain Weight'],\n",
       " ['Digestive Disorders'],\n",
       " ['Staying Healthy'],\n",
       " ['Acne/Pimples'],\n",
       " ['Oily Skin'],\n",
       " ['Anemia'],\n",
       " ['Premature Ejaculation'],\n",
       " ['Stomach Pain'],\n",
       " ['Pimples'],\n",
       " ['Lose Weight'],\n",
       " ['Memory Improvement'],\n",
       " ['Psoriasis'],\n",
       " ['Colds'],\n",
       " ['Menstrual Problems Treatment', 'Heavy Periods'],\n",
       " ['Abortion'],\n",
       " ['Metal Braces'],\n",
       " ['Male Sexual Problems'],\n",
       " ['Delay Periods'],\n",
       " ['Sex Education'],\n",
       " ['Menstrual Problems Treatment'],\n",
       " ['Female Hair Loss'],\n",
       " ['Back Pain'],\n",
       " ['Heart Attack', 'drugadvrseeffect'],\n",
       " ['Swelling', 'Bone Disease'],\n",
       " ['Male Sexual Problems', 'Breast Enhancement'],\n",
       " ['Stroke'],\n",
       " ['Lose Weight'],\n",
       " ['Hypothyroid Treatment'],\n",
       " ['Delay Periods'],\n",
       " ['intrauterineinseminationiui'],\n",
       " ['Anxiety'],\n",
       " ['Blood in Stools'],\n",
       " ['Acne/Pimples'],\n",
       " ['Poisoning'],\n",
       " ['Acne Scars'],\n",
       " ['Dry Cough'],\n",
       " ['Painful Sexual Intercourse', 'Vaginal Itching'],\n",
       " ['Increase height'],\n",
       " ['Bacterial Infections'],\n",
       " ['Birth Control Pills', 'Trying to Conceive'],\n",
       " ['No Periods'],\n",
       " ['Fever'],\n",
       " ['Hair Fall'],\n",
       " ['Black Spots on Skin', 'Chronic Skin Allergy'],\n",
       " ['stomachpain'],\n",
       " ['Thyroid Disorders'],\n",
       " ['caringfortoddlers13yrs'],\n",
       " ['Acne/Pimples'],\n",
       " ['Premature Ejaculation'],\n",
       " ['Pigmented Skin'],\n",
       " ['Urinary Incontinence (Ui)'],\n",
       " ['Sugar'],\n",
       " ['Male Sexual Problems'],\n",
       " ['Joint Pain'],\n",
       " ['Pregnancy Symptoms'],\n",
       " ['peniledisorders'],\n",
       " ['Sleepiness'],\n",
       " ['malesexualproblems'],\n",
       " ['Sleeping Problem'],\n",
       " ['Pregnant'],\n",
       " ['Masturbation Addiction'],\n",
       " ['Anxiety'],\n",
       " ['Milk Allergy'],\n",
       " ['Skin Lumps', 'Penile Disorders'],\n",
       " ['Stress'],\n",
       " ['Fungal Infection'],\n",
       " ['Warts'],\n",
       " ['Lactation problems'],\n",
       " ['Fungal Infection'],\n",
       " ['Tremors'],\n",
       " ['hairloss'],\n",
       " ['Neurological Problems'],\n",
       " ['Tremors'],\n",
       " ['Delay Periods', 'Irregular Periods'],\n",
       " ['menstrualproblemstreatment'],\n",
       " ['Sweating'],\n",
       " ['Hair Fall'],\n",
       " ['Staying Healthy'],\n",
       " ['Anger Management'],\n",
       " ['Headaches'],\n",
       " ['High Cholesterol'],\n",
       " ['Avoid Pregnancy'],\n",
       " ['Dandruff'],\n",
       " ['Caring for Infants (0-1 yrs)'],\n",
       " ['Delivery'],\n",
       " ['Pregnancy Query', 'Avoid Pregnancy'],\n",
       " ['Pregnant'],\n",
       " ['Hypertension'],\n",
       " ['Polycystic Ovary Syndrome'],\n",
       " ['Sexually Transmitted Disease (STD) Treatment', 'Skin Lumps'],\n",
       " ['Depression'],\n",
       " ['Avoid Pregnancy'],\n",
       " ['Rabies'],\n",
       " ['Masturbation Addiction'],\n",
       " ['Irritable Bowel Syndrome'],\n",
       " ['Heel Pain'],\n",
       " ['Black Spots on Skin'],\n",
       " ['Sugar'],\n",
       " ['Masturbation Addiction'],\n",
       " ['Skin Infections'],\n",
       " ['Masturbation Addiction'],\n",
       " ['Pregnant', 'Avoid Pregnancy'],\n",
       " ['OCD'],\n",
       " ['Tennis Elbow'],\n",
       " ['Pregnant', 'Avoid Pregnancy'],\n",
       " ['Gynecomastia'],\n",
       " ['Hypertension'],\n",
       " ['Trying to Conceive'],\n",
       " ['Dandruff'],\n",
       " ['Difficulty Sleeping'],\n",
       " ['Swollen Lymph Nodes'],\n",
       " ['Erectile Dysfunction'],\n",
       " ['Nose Bleed'],\n",
       " ['Difficulty Sleeping'],\n",
       " ['Acne/Pimples'],\n",
       " ['Breast Enhancement'],\n",
       " ['Sensitive Bladder'],\n",
       " ['Bells Palsy'],\n",
       " ['Gain Weight'],\n",
       " ['Difficulty Sleeping'],\n",
       " ['Skin Health'],\n",
       " ['Male Sexual Problems'],\n",
       " ['Back Pain'],\n",
       " ['Caring for Infants (0-1 yrs)', 'Vaccination'],\n",
       " ['Irregular Heartbeat'],\n",
       " ['No Periods'],\n",
       " ['Premature Ejaculation'],\n",
       " ['Sweating'],\n",
       " ['Medical Termination Of Pregnancy (Mtp)'],\n",
       " ['Breast Lift'],\n",
       " ['Acne/Pimples'],\n",
       " ['Staying Healthy'],\n",
       " ['Male Sexual Problems'],\n",
       " ['Hair Loss'],\n",
       " ['Masturbation Addiction'],\n",
       " ['Pregnancy Query', 'No Periods'],\n",
       " ['Trying to Conceive', 'Irregular Periods'],\n",
       " ['Sex Education'],\n",
       " ['Burning Sensation in Stomach'],\n",
       " ['Erectile Dysfunction'],\n",
       " ['Chickenpox'],\n",
       " ['Body Weakness'],\n",
       " ['Acidity'],\n",
       " ['HIV AIDS'],\n",
       " ['Eye Pain'],\n",
       " ['Urinary Tract Infection'],\n",
       " ['Acne Scars'],\n",
       " ['Stomach Pain'],\n",
       " ['Rashes'],\n",
       " ['Sex Education'],\n",
       " ['Pimples', 'Female Hair Loss'],\n",
       " ['Premature Ejaculation'],\n",
       " ['Lose Weight'],\n",
       " ['Abortion'],\n",
       " ['Health Check Up'],\n",
       " ['Vomiting'],\n",
       " ['Skin Health'],\n",
       " ['Avoid Pregnancy'],\n",
       " ['Pregnant'],\n",
       " ['Masturbation Addiction'],\n",
       " ['Pimples', 'Acne Scars'],\n",
       " ['Kidney Disease'],\n",
       " ['Gum Surgery'],\n",
       " ['Skin Whitening'],\n",
       " ['Birth Control Pills'],\n",
       " ['Dark Skin'],\n",
       " ['No Periods'],\n",
       " ['Hypertension'],\n",
       " ['Acne Scars'],\n",
       " ['Lose Weight'],\n",
       " ['Trying to Conceive'],\n",
       " ['Masturbation Addiction'],\n",
       " ['Masturbation Addiction'],\n",
       " ['Premature Ejaculation', 'Masturbation Addiction'],\n",
       " ['Urinary Tract Infection'],\n",
       " ['Greying Hair'],\n",
       " ['Small Penis Size'],\n",
       " ['Stretch Marks Treatment '],\n",
       " ['Eczema'],\n",
       " ['sorethroat'],\n",
       " ['Small Penis Size'],\n",
       " ['Masturbation Addiction'],\n",
       " ['Acne/Pimples'],\n",
       " ['Breast Pain'],\n",
       " ['Leg Pain'],\n",
       " ['Depression'],\n",
       " ['Drug Abuse and Addiction'],\n",
       " ['Irritable Bowel Syndrome'],\n",
       " ['Back Pain'],\n",
       " ['Migraine'],\n",
       " ['Acne/Pimples'],\n",
       " ['Acne/Pimples'],\n",
       " ['Bipolar Disorder', 'Irritable Bowel Syndrome'],\n",
       " ['Tuberculosis', 'Erectile Dysfunction'],\n",
       " ['Joint Pain', 'Kidney Stones'],\n",
       " ['Sex Education'],\n",
       " ['Pregnant'],\n",
       " ['Pacemaker'],\n",
       " ['Liver Disease'],\n",
       " ['Kidney Stones'],\n",
       " ['Pregnancy Query', 'Irregular Periods'],\n",
       " ['Anxiety'],\n",
       " ['Fever'],\n",
       " ['Bone Fracture'],\n",
       " ['Masturbation Addiction'],\n",
       " ['Poor Eye Sight'],\n",
       " ['Heart Disease'],\n",
       " ['HIV AIDS'],\n",
       " ['Premature Ejaculation'],\n",
       " ['Joint Pain', 'Foot Pain'],\n",
       " ['Fertility'],\n",
       " ['Tags'],\n",
       " ['Knock Knees'],\n",
       " ['Heat Stroke'],\n",
       " ['Vaginal Tightening'],\n",
       " ['Urinary Tract Infection', 'Infection'],\n",
       " ['Kidney Disease'],\n",
       " ['Asthma'],\n",
       " ['Small Penis Size'],\n",
       " ['Lose Weight'],\n",
       " ['Male Sexual Problems'],\n",
       " ['Sex Education', 'Loss Of Libido'],\n",
       " ['No Periods'],\n",
       " ['Premature Ejaculation'],\n",
       " ['Anger Management'],\n",
       " ['Pregnant'],\n",
       " ['Hair Loss', 'Female Hair Loss'],\n",
       " ['Dialysis'],\n",
       " ['Small Penis Size'],\n",
       " ['High Cholesterol'],\n",
       " ['Ichthyosis Vulgaris'],\n",
       " ['Vitamin Deficiency'],\n",
       " ['Stitching of Wounds '],\n",
       " ['Hypogonadism'],\n",
       " ['Erectile Dysfunction'],\n",
       " ['Headaches'],\n",
       " ['Caring for Toddlers (1-3 yrs)', 'Breast Pain'],\n",
       " ['Small Penis Size'],\n",
       " ['Viagra'],\n",
       " ['Hearing Loss'],\n",
       " ['Hair Growth'],\n",
       " ['Staying Healthy'],\n",
       " ['Red Eyes'],\n",
       " ['Dandruff'],\n",
       " ['Sweating'],\n",
       " ['Anxiety'],\n",
       " ['Polycystic Ovary Syndrome'],\n",
       " ['malesexualproblems'],\n",
       " ['Trying to Conceive'],\n",
       " ['Tinnitus'],\n",
       " ['Irregular Periods'],\n",
       " ['Stroke', 'Brain Hemorrhage'],\n",
       " ['Liver Disease'],\n",
       " ['Wrinkles'],\n",
       " ['Gain Weight'],\n",
       " ['Acne/Pimples'],\n",
       " ['Chest Pain'],\n",
       " ['Sexually Transmitted Disease (STD) Treatment', 'herpesinfections'],\n",
       " ['Male Sexual Problems'],\n",
       " ['Pregnant'],\n",
       " ['Eye Pain'],\n",
       " ['Anal Fistula'],\n",
       " ['Sex Education'],\n",
       " ['Irregular Periods'],\n",
       " ['Irregular Periods'],\n",
       " ['Acne/Pimples'],\n",
       " ['Fungal Infection'],\n",
       " ['Hair Growth'],\n",
       " ['Sex Education', 'Male Sexual Problems'],\n",
       " ['Tight Foreskin'],\n",
       " ['Frequent Urination', 'Sensitive Bladder'],\n",
       " ['scrotalswelling'],\n",
       " ['Constipation'],\n",
       " ['Sex Addiction'],\n",
       " ['Bloating', 'Double Chin'],\n",
       " ['Hypothyroid Treatment'],\n",
       " ['Sleep Apnea'],\n",
       " ['Irregular Periods', 'polycysticovarysyndrome'],\n",
       " ['Itching'],\n",
       " ['Masturbation Addiction'],\n",
       " ['Breast Reduction'],\n",
       " ['Black Spots on Skin'],\n",
       " ['Gastric Cancer'],\n",
       " ['Lose Weight'],\n",
       " ['Painful Sexual Intercourse', 'Penis Pain'],\n",
       " ['Birth Control Pills'],\n",
       " ['Premature Ejaculation'],\n",
       " ['Lose Weight'],\n",
       " ['Finger Pain'],\n",
       " ['Irregular Periods'],\n",
       " ['Breast Enhancement'],\n",
       " ['Back Pain', 'Kidney Stones'],\n",
       " ['Diet'],\n",
       " ['Heart Disease'],\n",
       " ['Warts'],\n",
       " ['Pregnant'],\n",
       " ['Premature Ejaculation'],\n",
       " ['Stomach Pain'],\n",
       " ['Sleep Apnea'],\n",
       " ['Erectile Dysfunction'],\n",
       " ['Trying to Conceive'],\n",
       " ['Pregnancy Query', 'Pregnant'],\n",
       " ['Blister'],\n",
       " ['Indigestion'],\n",
       " ['Pregnancy Query'],\n",
       " ['Anxiety', 'Behaviour and Thought Problems'],\n",
       " ['Sleeve Gastrectomy'],\n",
       " ['Anus Infection'],\n",
       " ['Stomach Pain'],\n",
       " ['Allergy', 'Body Ache'],\n",
       " ['Rabies'],\n",
       " ['Skin Health'],\n",
       " ['Tight Foreskin'],\n",
       " ['Pregnant'],\n",
       " ['Sex Education', 'Male Sexual Problems'],\n",
       " ['HIV AIDS'],\n",
       " ['Lose Weight'],\n",
       " ['Skin Whitening'],\n",
       " ['avoidpregnancy'],\n",
       " ['Hypertension'],\n",
       " ['No Periods'],\n",
       " ['Trying to Conceive'],\n",
       " ['Low Platelets'],\n",
       " ['Headaches'],\n",
       " ['High Cholesterol'],\n",
       " ['HIV AIDS'],\n",
       " ['Low Platelets'],\n",
       " ['Anal Fissure'],\n",
       " ['Thyroid Disorders'],\n",
       " ['Gastric Problem'],\n",
       " ['Hair Growth'],\n",
       " ['Hair Health'],\n",
       " ['Blood in Urine'],\n",
       " ['Abortion'],\n",
       " ['Pimples', 'Acne Scars'],\n",
       " ['Gynecomastia', 'malebreast'],\n",
       " ['Swollen Lymph Nodes', 'Tuberculosis'],\n",
       " ['Pregnancy Query'],\n",
       " ['Masturbation Addiction'],\n",
       " ['Back Pain'],\n",
       " ['Sexual Dysfunction'],\n",
       " ['No Periods'],\n",
       " ['Avoid Pregnancy '],\n",
       " ['Premature Ejaculation'],\n",
       " ['Healthy Pregnancy', 'pregnant'],\n",
       " ['Heart Disease'],\n",
       " ['Birth Control Pills', 'medicalterminationofpregnancymtp'],\n",
       " ['Masturbation Addiction'],\n",
       " ['Back Pain'],\n",
       " ['Depression'],\n",
       " ['Gastroenteritis', 'bloating'],\n",
       " ['Behaviour and Thought Problems'],\n",
       " ['Blood in Stools'],\n",
       " ['Pigmented Skin'],\n",
       " ['Syphilis'],\n",
       " ['Kidney Disease'],\n",
       " ['Itching'],\n",
       " ['Kidney Disease'],\n",
       " ['Cold Cough'],\n",
       " ['Heart Disease'],\n",
       " ['Root Canal Treatment (RCT)'],\n",
       " ['Smoking'],\n",
       " ['Sex Education'],\n",
       " ['Muscle Spasm'],\n",
       " ['Erectile Dysfunction'],\n",
       " ['Small Penis Size'],\n",
       " ['Diabetes'],\n",
       " ['Digestive Disorders', 'Stomach Pain'],\n",
       " ['Ligament Reconstruction'],\n",
       " ['Pain', 'White Discharge Problem'],\n",
       " ['Lose Weight'],\n",
       " ['Shoulder Pain'],\n",
       " ['Increase height'],\n",
       " ['Throat Ache', 'sorethroat'],\n",
       " ['Anxiety', 'stress'],\n",
       " ['Glowing Skin'],\n",
       " ['HIV AIDS'],\n",
       " ['Masturbation Addiction'],\n",
       " ['Miscarriage'],\n",
       " ['Spinal Disorders'],\n",
       " ['Skin Scars'],\n",
       " ['Body Weakness'],\n",
       " ['Hemorrhoids'],\n",
       " ['Sex Education'],\n",
       " ['Sweating'],\n",
       " ['Premature Ejaculation'],\n",
       " ['Premature Ejaculation'],\n",
       " ['increaseconcentration'],\n",
       " ...]"
      ]
     },
     "execution_count": 6,
     "metadata": {},
     "output_type": "execute_result"
    }
   ],
   "source": [
    "genres"
   ]
  },
  {
   "cell_type": "code",
   "execution_count": 7,
   "metadata": {
    "collapsed": false
   },
   "outputs": [
    {
     "data": {
      "text/plain": [
       "((89737, 3), (89737, 3))"
      ]
     },
     "execution_count": 7,
     "metadata": {},
     "output_type": "execute_result"
    }
   ],
   "source": [
    "# remove samples with no labels\n",
    "df_new = df[~(df['result'].str.len() == 0)]\n",
    "df_new.shape, df.shape\n",
    "\n"
   ]
  },
  {
   "cell_type": "code",
   "execution_count": 8,
   "metadata": {
    "collapsed": false
   },
   "outputs": [
    {
     "data": {
      "text/plain": [
       "2117"
      ]
     },
     "execution_count": 8,
     "metadata": {},
     "output_type": "execute_result"
    }
   ],
   "source": [
    "#total number of unique labels\n",
    "all_genres = sum(genres,[])\n",
    "\n",
    "len(set(all_genres))"
   ]
  },
  {
   "cell_type": "code",
   "execution_count": null,
   "metadata": {
    "collapsed": true
   },
   "outputs": [],
   "source": [
    "# we have a total of 2117 unique labels in our dataset "
   ]
  },
  {
   "cell_type": "code",
   "execution_count": null,
   "metadata": {
    "collapsed": true
   },
   "outputs": [],
   "source": [
    "#There are over 2117 unique labels in our dataset. That is quite a big number.  Let’s find out what are these tags.\n",
    "#We will use FreqDist( ) from the nltk library to create a dictionary of genres and their occurrence count across the dataset:\n",
    "\n"
   ]
  },
  {
   "cell_type": "code",
   "execution_count": 9,
   "metadata": {
    "collapsed": true
   },
   "outputs": [],
   "source": [
    "#prepare a dataframe for all the unique tags with their count\n",
    "import nltk\n",
    "all_genres = nltk.FreqDist(all_genres) \n",
    "\n",
    "all_genres_df = pd.DataFrame({'Genre': list(all_genres.keys()), \n",
    "                              'Count': list(all_genres.values())})\n",
    "    \n",
    "    "
   ]
  },
  {
   "cell_type": "code",
   "execution_count": 10,
   "metadata": {
    "collapsed": true
   },
   "outputs": [],
   "source": [
    "%matplotlib inline\n",
    "pd.set_option('display.max_colwidth', 300)"
   ]
  },
  {
   "cell_type": "code",
   "execution_count": 11,
   "metadata": {
    "collapsed": false
   },
   "outputs": [
    {
     "data": {
      "image/png": "[encoded data removed]",
      "text/plain": [
       "<Figure size 864x1080 with 1 Axes>"
      ]
     },
     "metadata": {
      "needs_background": "light"
     },
     "output_type": "display_data"
    }
   ],
   "source": [
    "#visualizing the labels with the maximum frequency \n",
    "g = all_genres_df.nlargest(columns=\"Count\", n = 50) \n",
    "plt.figure(figsize=(12,15)) \n",
    "ax = sns.barplot(data=g, x= \"Count\", y = \"Genre\") \n",
    "ax.set(ylabel = 'Count') \n",
    "plt.show()"
   ]
  },
  {
   "cell_type": "code",
   "execution_count": 12,
   "metadata": {
    "collapsed": true
   },
   "outputs": [],
   "source": [
    "# function for text cleaning \n",
    "import re\n",
    "\n",
    "def clean_text(text):\n",
    "    # remove backslash-apostrophe \n",
    "    text = re.sub(\"\\'\", \"\", text) \n",
    "    # remove everything except alphabets \n",
    "    text = re.sub(\"[^a-zA-Z]\",\" \",text) \n",
    "    # remove whitespaces \n",
    "    text = ' '.join(text.split()) \n",
    "    # convert text to lowercase \n",
    "    text = text.lower() \n",
    "    \n",
    "    return text"
   ]
  },
  {
   "cell_type": "code",
   "execution_count": 13,
   "metadata": {
    "collapsed": false
   },
   "outputs": [],
   "source": [
    "#apply the cleaning function to the body of our dataframe\n",
    "df['clean_body'] = df['body'].apply(lambda x: clean_text(x))\n"
   ]
  },
  {
   "cell_type": "code",
   "execution_count": 14,
   "metadata": {
    "collapsed": false
   },
   "outputs": [
    {
     "data": {
      "text/html": [
       "<div>\n",
       "<table border=\"1\" class=\"dataframe\">\n",
       "  <thead>\n",
       "    <tr style=\"text-align: right;\">\n",
       "      <th></th>\n",
       "      <th>code</th>\n",
       "      <th>body</th>\n",
       "      <th>result</th>\n",
       "      <th>clean_body</th>\n",
       "    </tr>\n",
       "  </thead>\n",
       "  <tbody>\n",
       "    <tr>\n",
       "      <th>0</th>\n",
       "      <td>2552272216</td>\n",
       "      <td>Does honey changes black hair into white ?</td>\n",
       "      <td>[Greying Hair]</td>\n",
       "      <td>does honey changes black hair into white</td>\n",
       "    </tr>\n",
       "    <tr>\n",
       "      <th>1</th>\n",
       "      <td>2552210209</td>\n",
       "      <td>Hello doctor,my mother was diagnosed with depression at the age of 36 due to over thinking about the family problems. Which caused her depression which caused several other mental problems and made her condition worse which resulted into a brain stroke and she passed away. Now my question iscan ...</td>\n",
       "      <td>[Depression]</td>\n",
       "      <td>hello doctor my mother was diagnosed with depression at the age of due to over thinking about the family problems which caused her depression which caused several other mental problems and made her condition worse which resulted into a brain stroke and she passed away now my question iscan it ha...</td>\n",
       "    </tr>\n",
       "    <tr>\n",
       "      <th>2</th>\n",
       "      <td>2552109491</td>\n",
       "      <td>I am 35 years old, having a baby boy 1 years old. I got pregnant in feb and done abortion on 25 march. Everything is normal after consulting with doctor. But after that I consume I pill due to unprotected sex and next day my period again come with heavy flow n till continue right now. please sug...</td>\n",
       "      <td>[Pregnant]</td>\n",
       "      <td>i am years old having a baby boy years old i got pregnant in feb and done abortion on march everything is normal after consulting with doctor but after that i consume i pill due to unprotected sex and next day my period again come with heavy flow n till continue right now please suggest me is an...</td>\n",
       "    </tr>\n",
       "    <tr>\n",
       "      <th>3</th>\n",
       "      <td>2552189482</td>\n",
       "      <td>Need to know any silent mri available in bangalore or any other city in india.We need to go for mri scanning of our kid and he is not able to sleep with the louder sounds with the normal mri.</td>\n",
       "      <td>[Difficulty Sleeping]</td>\n",
       "      <td>need to know any silent mri available in bangalore or any other city in india we need to go for mri scanning of our kid and he is not able to sleep with the louder sounds with the normal mri</td>\n",
       "    </tr>\n",
       "    <tr>\n",
       "      <th>4</th>\n",
       "      <td>2552189193</td>\n",
       "      <td>My 1 year n9 month son is suffering from cough cold fever. I am giving him medicine but I have miss the antibiotics dose now can I continue giving him antibiotics that miss dose.</td>\n",
       "      <td>[Cold Cough]</td>\n",
       "      <td>my year n month son is suffering from cough cold fever i am giving him medicine but i have miss the antibiotics dose now can i continue giving him antibiotics that miss dose</td>\n",
       "    </tr>\n",
       "  </tbody>\n",
       "</table>\n",
       "</div>"
      ],
      "text/plain": [
       "         code  \\\n",
       "0  2552272216   \n",
       "1  2552210209   \n",
       "2  2552109491   \n",
       "3  2552189482   \n",
       "4  2552189193   \n",
       "\n",
       "                                                                                                                                                                                                                                                                                                          body  \\\n",
       "0                                                                                                                                                                                                                                                                   Does honey changes black hair into white ?   \n",
       "1  Hello doctor,my mother was diagnosed with depression at the age of 36 due to over thinking about the family problems. Which caused her depression which caused several other mental problems and made her condition worse which resulted into a brain stroke and she passed away. Now my question iscan ...   \n",
       "2  I am 35 years old, having a baby boy 1 years old. I got pregnant in feb and done abortion on 25 march. Everything is normal after consulting with doctor. But after that I consume I pill due to unprotected sex and next day my period again come with heavy flow n till continue right now. please sug...   \n",
       "3                                                                                                              Need to know any silent mri available in bangalore or any other city in india.We need to go for mri scanning of our kid and he is not able to sleep with the louder sounds with the normal mri.   \n",
       "4                                                                                                                           My 1 year n9 month son is suffering from cough cold fever. I am giving him medicine but I have miss the antibiotics dose now can I continue giving him antibiotics that miss dose.   \n",
       "\n",
       "                  result  \\\n",
       "0         [Greying Hair]   \n",
       "1           [Depression]   \n",
       "2             [Pregnant]   \n",
       "3  [Difficulty Sleeping]   \n",
       "4           [Cold Cough]   \n",
       "\n",
       "                                                                                                                                                                                                                                                                                                    clean_body  \n",
       "0                                                                                                                                                                                                                                                                     does honey changes black hair into white  \n",
       "1  hello doctor my mother was diagnosed with depression at the age of due to over thinking about the family problems which caused her depression which caused several other mental problems and made her condition worse which resulted into a brain stroke and she passed away now my question iscan it ha...  \n",
       "2  i am years old having a baby boy years old i got pregnant in feb and done abortion on march everything is normal after consulting with doctor but after that i consume i pill due to unprotected sex and next day my period again come with heavy flow n till continue right now please suggest me is an...  \n",
       "3                                                                                                               need to know any silent mri available in bangalore or any other city in india we need to go for mri scanning of our kid and he is not able to sleep with the louder sounds with the normal mri  \n",
       "4                                                                                                                                my year n month son is suffering from cough cold fever i am giving him medicine but i have miss the antibiotics dose now can i continue giving him antibiotics that miss dose  "
      ]
     },
     "execution_count": 14,
     "metadata": {},
     "output_type": "execute_result"
    }
   ],
   "source": [
    "df.head()"
   ]
  },
  {
   "cell_type": "code",
   "execution_count": null,
   "metadata": {
    "collapsed": true
   },
   "outputs": [],
   "source": [
    "#In the clean_body column, all the text is in lowercase and there are also no punctuation marks. "
   ]
  },
  {
   "cell_type": "code",
   "execution_count": null,
   "metadata": {
    "collapsed": true
   },
   "outputs": [],
   "source": [
    "#The function below will visualize the words and their frequency.\n",
    "\n"
   ]
  },
  {
   "cell_type": "code",
   "execution_count": 15,
   "metadata": {
    "collapsed": false
   },
   "outputs": [
    {
     "data": {
      "image/png": "[encoded data removed]",
      "text/plain": [
       "<Figure size 864x1080 with 1 Axes>"
      ]
     },
     "metadata": {
      "needs_background": "light"
     },
     "output_type": "display_data"
    }
   ],
   "source": [
    "#function to print the most frequent words \n",
    "def freq_words(x, terms = 30): \n",
    "  all_words = ' '.join([text for text in x]) \n",
    "  all_words = all_words.split() \n",
    "  fdist = nltk.FreqDist(all_words) \n",
    "  words_df = pd.DataFrame({'word':list(fdist.keys()), 'count':list(fdist.values())}) \n",
    "  \n",
    "  # selecting top 20 most frequent words \n",
    "  d = words_df.nlargest(columns=\"count\", n = terms) \n",
    "  \n",
    "  # visualize words and frequencies\n",
    "  plt.figure(figsize=(12,15)) \n",
    "  ax = sns.barplot(data=d, x= \"count\", y = \"word\") \n",
    "  ax.set(ylabel = 'Word') \n",
    "  plt.show()\n",
    "  \n",
    "# print 100 most frequent words \n",
    "freq_words(df['clean_body'], 100)"
   ]
  },
  {
   "cell_type": "code",
   "execution_count": null,
   "metadata": {
    "collapsed": true
   },
   "outputs": [],
   "source": [
    "#Most of the terms in the above clean_body are stopwords. \n",
    "#These stopwords carry far less meaning than other keywords in the text (they just add noise to the data). \n",
    "#I’m going to go ahead and remove them from the plots’ text.\n",
    "#You can download the list of stopwords from the nltk library:"
   ]
  },
  {
   "cell_type": "code",
   "execution_count": 19,
   "metadata": {
    "collapsed": false
   },
   "outputs": [
    {
     "name": "stdout",
     "output_type": "stream",
     "text": [
      "[nltk_data] Downloading package stopwords to\n",
      "[nltk_data]     /Users/divyanshraj/nltk_data...\n",
      "[nltk_data]   Package stopwords is already up-to-date!\n"
     ]
    },
    {
     "data": {
      "text/plain": [
       "True"
      ]
     },
     "execution_count": 19,
     "metadata": {},
     "output_type": "execute_result"
    }
   ],
   "source": [
    "nltk.download('stopwords')\n"
   ]
  },
  {
   "cell_type": "code",
   "execution_count": 20,
   "metadata": {
    "collapsed": false
   },
   "outputs": [],
   "source": [
    "from nltk.corpus import stopwords\n",
    "from nltk.stem.porter import PorterStemmer\n",
    "stop_words = set(stopwords.words('english'))\n",
    "\n",
    "# function to remove stopwords and stemming the words\n",
    "def remove_stopwords(text):\n",
    "    ps = PorterStemmer()\n",
    "    no_stopword_text = [ps.stem(w) for w in text.split() if not w in stop_words]\n",
    "    return ' '.join(no_stopword_text)\n",
    "\n",
    "df['clean_body'] = df['clean_body'].apply(lambda x: remove_stopwords(x))\n"
   ]
  },
  {
   "cell_type": "code",
   "execution_count": null,
   "metadata": {
    "collapsed": true
   },
   "outputs": [],
   "source": [
    "#Check the most frequent terms sans the stopwords:\n"
   ]
  },
  {
   "cell_type": "code",
   "execution_count": 21,
   "metadata": {
    "collapsed": false
   },
   "outputs": [
    {
     "data": {
      "image/png": "[encoded data removed]",
      "text/plain": [
       "<Figure size 864x1080 with 1 Axes>"
      ]
     },
     "metadata": {
      "needs_background": "light"
     },
     "output_type": "display_data"
    }
   ],
   "source": [
    "#most frequent words after the preprocessing of the body\n",
    "freq_words(df['clean_body'], 100)\n"
   ]
  },
  {
   "cell_type": "code",
   "execution_count": 22,
   "metadata": {
    "collapsed": false
   },
   "outputs": [
    {
     "data": {
      "text/html": [
       "<div>\n",
       "<table border=\"1\" class=\"dataframe\">\n",
       "  <thead>\n",
       "    <tr style=\"text-align: right;\">\n",
       "      <th></th>\n",
       "      <th>code</th>\n",
       "      <th>body</th>\n",
       "      <th>result</th>\n",
       "      <th>clean_body</th>\n",
       "    </tr>\n",
       "  </thead>\n",
       "  <tbody>\n",
       "    <tr>\n",
       "      <th>0</th>\n",
       "      <td>2552272216</td>\n",
       "      <td>Does honey changes black hair into white ?</td>\n",
       "      <td>[Greying Hair]</td>\n",
       "      <td>honey chang black hair white</td>\n",
       "    </tr>\n",
       "    <tr>\n",
       "      <th>1</th>\n",
       "      <td>2552210209</td>\n",
       "      <td>Hello doctor,my mother was diagnosed with depression at the age of 36 due to over thinking about the family problems. Which caused her depression which caused several other mental problems and made her condition worse which resulted into a brain stroke and she passed away. Now my question iscan ...</td>\n",
       "      <td>[Depression]</td>\n",
       "      <td>hello doctor mother diagno depress age due think famili problem cau depress cau sever mental problem made condit wor result brain stroke pass away question iscan happen sister also point</td>\n",
       "    </tr>\n",
       "    <tr>\n",
       "      <th>2</th>\n",
       "      <td>2552109491</td>\n",
       "      <td>I am 35 years old, having a baby boy 1 years old. I got pregnant in feb and done abortion on 25 march. Everything is normal after consulting with doctor. But after that I consume I pill due to unprotected sex and next day my period again come with heavy flow n till continue right now. please sug...</td>\n",
       "      <td>[Pregnant]</td>\n",
       "      <td>year old babi boy year old got pregnant feb done abort march everyth normal consult doctor consum pill due unprotect sex next day period come heavi flow n till continu right plea suggest anyth seriou normal</td>\n",
       "    </tr>\n",
       "    <tr>\n",
       "      <th>3</th>\n",
       "      <td>2552189482</td>\n",
       "      <td>Need to know any silent mri available in bangalore or any other city in india.We need to go for mri scanning of our kid and he is not able to sleep with the louder sounds with the normal mri.</td>\n",
       "      <td>[Difficulty Sleeping]</td>\n",
       "      <td>need know silent mri avail bangalor citi india need go mri scan kid abl sleep louder sound normal mri</td>\n",
       "    </tr>\n",
       "    <tr>\n",
       "      <th>4</th>\n",
       "      <td>2552189193</td>\n",
       "      <td>My 1 year n9 month son is suffering from cough cold fever. I am giving him medicine but I have miss the antibiotics dose now can I continue giving him antibiotics that miss dose.</td>\n",
       "      <td>[Cold Cough]</td>\n",
       "      <td>year n month son suffer cough cold fever give medicin miss antibiot dose continu give antibiot miss dose</td>\n",
       "    </tr>\n",
       "  </tbody>\n",
       "</table>\n",
       "</div>"
      ],
      "text/plain": [
       "         code  \\\n",
       "0  2552272216   \n",
       "1  2552210209   \n",
       "2  2552109491   \n",
       "3  2552189482   \n",
       "4  2552189193   \n",
       "\n",
       "                                                                                                                                                                                                                                                                                                          body  \\\n",
       "0                                                                                                                                                                                                                                                                   Does honey changes black hair into white ?   \n",
       "1  Hello doctor,my mother was diagnosed with depression at the age of 36 due to over thinking about the family problems. Which caused her depression which caused several other mental problems and made her condition worse which resulted into a brain stroke and she passed away. Now my question iscan ...   \n",
       "2  I am 35 years old, having a baby boy 1 years old. I got pregnant in feb and done abortion on 25 march. Everything is normal after consulting with doctor. But after that I consume I pill due to unprotected sex and next day my period again come with heavy flow n till continue right now. please sug...   \n",
       "3                                                                                                              Need to know any silent mri available in bangalore or any other city in india.We need to go for mri scanning of our kid and he is not able to sleep with the louder sounds with the normal mri.   \n",
       "4                                                                                                                           My 1 year n9 month son is suffering from cough cold fever. I am giving him medicine but I have miss the antibiotics dose now can I continue giving him antibiotics that miss dose.   \n",
       "\n",
       "                  result  \\\n",
       "0         [Greying Hair]   \n",
       "1           [Depression]   \n",
       "2             [Pregnant]   \n",
       "3  [Difficulty Sleeping]   \n",
       "4           [Cold Cough]   \n",
       "\n",
       "                                                                                                                                                                                                       clean_body  \n",
       "0                                                                                                                                                                                    honey chang black hair white  \n",
       "1                      hello doctor mother diagno depress age due think famili problem cau depress cau sever mental problem made condit wor result brain stroke pass away question iscan happen sister also point  \n",
       "2  year old babi boy year old got pregnant feb done abort march everyth normal consult doctor consum pill due unprotect sex next day period come heavi flow n till continu right plea suggest anyth seriou normal  \n",
       "3                                                                                                           need know silent mri avail bangalor citi india need go mri scan kid abl sleep louder sound normal mri  \n",
       "4                                                                                                        year n month son suffer cough cold fever give medicin miss antibiot dose continu give antibiot miss dose  "
      ]
     },
     "execution_count": 22,
     "metadata": {},
     "output_type": "execute_result"
    }
   ],
   "source": [
    "df.head()"
   ]
  },
  {
   "cell_type": "code",
   "execution_count": 23,
   "metadata": {
    "collapsed": false
   },
   "outputs": [
    {
     "data": {
      "text/plain": [
       "((89641, 4), (89737, 4))"
      ]
     },
     "execution_count": 23,
     "metadata": {},
     "output_type": "execute_result"
    }
   ],
   "source": [
    "# remove samples with no body\n",
    "df_new = df[~(df['clean_body'].str.len() == 0)]\n",
    "df_new.shape, df.shape\n"
   ]
  },
  {
   "cell_type": "code",
   "execution_count": null,
   "metadata": {
    "collapsed": true
   },
   "outputs": [],
   "source": [
    "#we will treat this multi-label classification problem as a Binary Relevance problem. \n",
    "#Hence, we will now one hot encode the target variable, i.e., genre_new by using sklearn’s MultiLabelBinarizer( ). \n",
    "#Since there are 2117 unique labels, there are going to be 2117 new target variables.\n",
    "\n"
   ]
  },
  {
   "cell_type": "code",
   "execution_count": 24,
   "metadata": {
    "collapsed": false
   },
   "outputs": [],
   "source": [
    "from sklearn.preprocessing import MultiLabelBinarizer\n",
    "\n",
    "multilabel_binarizer = MultiLabelBinarizer()\n",
    "multilabel_binarizer.fit(df_new['result'])\n",
    "\n",
    "# transform target variable\n",
    "y = multilabel_binarizer.transform(df_new['result'])"
   ]
  },
  {
   "cell_type": "code",
   "execution_count": null,
   "metadata": {
    "collapsed": true
   },
   "outputs": [],
   "source": [
    "#Now, it’s time to turn our focus to extracting features from the cleaned version of the df['clean_body'] data. \n",
    "#I will be using TF-IDF features. "
   ]
  },
  {
   "cell_type": "code",
   "execution_count": 42,
   "metadata": {
    "collapsed": false
   },
   "outputs": [],
   "source": [
    "from sklearn.feature_extraction.text import TfidfVectorizer\n",
    "from sklearn.cross_validation import train_test_split\n",
    "\n",
    "# there are some different approaches to transform text to features , here we use the tfidf approach for feature extraction \n",
    "tfidf_vectorizer = TfidfVectorizer(max_df=0.8, max_features=40000)\n",
    "\n",
    "#I have used the 40,000 most frequent words in the data as my features. \n",
    "#we can try any other number as well for the max_features parameter.\n",
    "\n"
   ]
  },
  {
   "cell_type": "code",
   "execution_count": null,
   "metadata": {
    "collapsed": true
   },
   "outputs": [],
   "source": [
    "#Now, before creating TF-IDF features, we will split our data into train and validation sets for training and evaluating our model’s performance. \n",
    "#I’m going with a 80-20 split – 80% of the data samples in the train set and the rest in the validation set:\n",
    "\n"
   ]
  },
  {
   "cell_type": "code",
   "execution_count": 43,
   "metadata": {
    "collapsed": false
   },
   "outputs": [],
   "source": [
    "# split dataset into training and validation set\n",
    "xtrain, xval, ytrain, yval = train_test_split(df_new['clean_body'], y, test_size=0.2, random_state=9)\n"
   ]
  },
  {
   "cell_type": "code",
   "execution_count": null,
   "metadata": {
    "collapsed": true
   },
   "outputs": [],
   "source": [
    "#Now we can create features for the train and the validation set:"
   ]
  },
  {
   "cell_type": "code",
   "execution_count": 45,
   "metadata": {
    "collapsed": true
   },
   "outputs": [],
   "source": [
    "# create TF-IDF features\n",
    "xtrain_tfidf = tfidf_vectorizer.fit_transform(xtrain)\n",
    "xval_tfidf = tfidf_vectorizer.transform(xval)\n"
   ]
  },
  {
   "cell_type": "code",
   "execution_count": null,
   "metadata": {
    "collapsed": true
   },
   "outputs": [],
   "source": [
    "#We are all set for the model building part.\n",
    "\n",
    "#we will have to build a model for every one-hot encoded target variable. Since we have 2117 target variables, \n",
    "#we will have to fit 363 different models with the same set of predictors (TF-IDF features).\n",
    "\n",
    "#training 2117 models can take a considerable amount of time on a modest system.\n",
    "#Hence, I will build a Logistic Regression model as it is quick to train on limited computational power:\n",
    "\n"
   ]
  },
  {
   "cell_type": "code",
   "execution_count": 58,
   "metadata": {
    "collapsed": false
   },
   "outputs": [],
   "source": [
    "from sklearn.linear_model import LogisticRegression\n",
    "from sklearn.svm import SVC\n",
    "from sklearn.naive_bayes import GaussianNB\n",
    "from skmultilearn.adapt import MLkNN\n",
    "from sklearn.tree import DecisionTreeClassifier\n",
    "\n",
    "# Binary Relevance\n",
    "from sklearn.multiclass import OneVsRestClassifier\n",
    "\n",
    "# Performance metric\n",
    "from sklearn.metrics import f1_score"
   ]
  },
  {
   "cell_type": "code",
   "execution_count": null,
   "metadata": {
    "collapsed": true
   },
   "outputs": [],
   "source": [
    "#We will use sk-learn’s OneVsRestClassifier class to solve this problem as a Binary Relevance or one-vs-all problem:\n",
    "\n"
   ]
  },
  {
   "cell_type": "code",
   "execution_count": 59,
   "metadata": {
    "collapsed": false
   },
   "outputs": [],
   "source": [
    "lr = LogisticRegression()\n",
    "#classifier = MLkNN(k=20)\n",
    "#classifier = SVC(kernel = 'rbf', random_state = 0,probability = True)\n",
    "#classifier = GaussianNB()\n",
    "#classifier = DecisionTreeClassifier(criterion = 'entropy', random_state = 9)\n",
    "\n",
    "clf = OneVsRestClassifier(lr)"
   ]
  },
  {
   "cell_type": "code",
   "execution_count": null,
   "metadata": {
    "collapsed": true
   },
   "outputs": [],
   "source": [
    "#Finally, fit the model on the train set:\n"
   ]
  },
  {
   "cell_type": "code",
   "execution_count": 60,
   "metadata": {
    "collapsed": true
   },
   "outputs": [
    {
     "name": "stderr",
     "output_type": "stream",
     "text": [
      "/Users/divyanshraj/anaconda/lib/python3.5/site-packages/sklearn/multiclass.py:70: UserWarning: Label not 2 is present in all training examples.\n",
      "  str(classes[c]))\n",
      "/Users/divyanshraj/anaconda/lib/python3.5/site-packages/sklearn/multiclass.py:70: UserWarning: Label not 4 is present in all training examples.\n",
      "  str(classes[c]))\n",
      "/Users/divyanshraj/anaconda/lib/python3.5/site-packages/sklearn/multiclass.py:70: UserWarning: Label not 10 is present in all training examples.\n",
      "  str(classes[c]))\n",
      "/Users/divyanshraj/anaconda/lib/python3.5/site-packages/sklearn/multiclass.py:70: UserWarning: Label not 33 is present in all training examples.\n",
      "  str(classes[c]))\n",
      "/Users/divyanshraj/anaconda/lib/python3.5/site-packages/sklearn/multiclass.py:70: UserWarning: Label not 46 is present in all training examples.\n",
      "  str(classes[c]))\n",
      "/Users/divyanshraj/anaconda/lib/python3.5/site-packages/sklearn/multiclass.py:70: UserWarning: Label not 122 is present in all training examples.\n",
      "  str(classes[c]))\n",
      "/Users/divyanshraj/anaconda/lib/python3.5/site-packages/sklearn/multiclass.py:70: UserWarning: Label not 143 is present in all training examples.\n",
      "  str(classes[c]))\n",
      "/Users/divyanshraj/anaconda/lib/python3.5/site-packages/sklearn/multiclass.py:70: UserWarning: Label not 160 is present in all training examples.\n",
      "  str(classes[c]))\n",
      "/Users/divyanshraj/anaconda/lib/python3.5/site-packages/sklearn/multiclass.py:70: UserWarning: Label not 176 is present in all training examples.\n",
      "  str(classes[c]))\n",
      "/Users/divyanshraj/anaconda/lib/python3.5/site-packages/sklearn/multiclass.py:70: UserWarning: Label not 189 is present in all training examples.\n",
      "  str(classes[c]))\n",
      "/Users/divyanshraj/anaconda/lib/python3.5/site-packages/sklearn/multiclass.py:70: UserWarning: Label not 194 is present in all training examples.\n",
      "  str(classes[c]))\n",
      "/Users/divyanshraj/anaconda/lib/python3.5/site-packages/sklearn/multiclass.py:70: UserWarning: Label not 199 is present in all training examples.\n",
      "  str(classes[c]))\n",
      "/Users/divyanshraj/anaconda/lib/python3.5/site-packages/sklearn/multiclass.py:70: UserWarning: Label not 224 is present in all training examples.\n",
      "  str(classes[c]))\n",
      "/Users/divyanshraj/anaconda/lib/python3.5/site-packages/sklearn/multiclass.py:70: UserWarning: Label not 268 is present in all training examples.\n",
      "  str(classes[c]))\n",
      "/Users/divyanshraj/anaconda/lib/python3.5/site-packages/sklearn/multiclass.py:70: UserWarning: Label not 269 is present in all training examples.\n",
      "  str(classes[c]))\n",
      "/Users/divyanshraj/anaconda/lib/python3.5/site-packages/sklearn/multiclass.py:70: UserWarning: Label not 301 is present in all training examples.\n",
      "  str(classes[c]))\n",
      "/Users/divyanshraj/anaconda/lib/python3.5/site-packages/sklearn/multiclass.py:70: UserWarning: Label not 312 is present in all training examples.\n",
      "  str(classes[c]))\n",
      "/Users/divyanshraj/anaconda/lib/python3.5/site-packages/sklearn/multiclass.py:70: UserWarning: Label not 322 is present in all training examples.\n",
      "  str(classes[c]))\n",
      "/Users/divyanshraj/anaconda/lib/python3.5/site-packages/sklearn/multiclass.py:70: UserWarning: Label not 326 is present in all training examples.\n",
      "  str(classes[c]))\n",
      "/Users/divyanshraj/anaconda/lib/python3.5/site-packages/sklearn/multiclass.py:70: UserWarning: Label not 335 is present in all training examples.\n",
      "  str(classes[c]))\n",
      "/Users/divyanshraj/anaconda/lib/python3.5/site-packages/sklearn/multiclass.py:70: UserWarning: Label not 380 is present in all training examples.\n",
      "  str(classes[c]))\n",
      "/Users/divyanshraj/anaconda/lib/python3.5/site-packages/sklearn/multiclass.py:70: UserWarning: Label not 401 is present in all training examples.\n",
      "  str(classes[c]))\n",
      "/Users/divyanshraj/anaconda/lib/python3.5/site-packages/sklearn/multiclass.py:70: UserWarning: Label not 412 is present in all training examples.\n",
      "  str(classes[c]))\n",
      "/Users/divyanshraj/anaconda/lib/python3.5/site-packages/sklearn/multiclass.py:70: UserWarning: Label not 423 is present in all training examples.\n",
      "  str(classes[c]))\n",
      "/Users/divyanshraj/anaconda/lib/python3.5/site-packages/sklearn/multiclass.py:70: UserWarning: Label not 504 is present in all training examples.\n",
      "  str(classes[c]))\n",
      "/Users/divyanshraj/anaconda/lib/python3.5/site-packages/sklearn/multiclass.py:70: UserWarning: Label not 531 is present in all training examples.\n",
      "  str(classes[c]))\n",
      "/Users/divyanshraj/anaconda/lib/python3.5/site-packages/sklearn/multiclass.py:70: UserWarning: Label not 534 is present in all training examples.\n",
      "  str(classes[c]))\n",
      "/Users/divyanshraj/anaconda/lib/python3.5/site-packages/sklearn/multiclass.py:70: UserWarning: Label not 578 is present in all training examples.\n",
      "  str(classes[c]))\n",
      "/Users/divyanshraj/anaconda/lib/python3.5/site-packages/sklearn/multiclass.py:70: UserWarning: Label not 622 is present in all training examples.\n",
      "  str(classes[c]))\n",
      "/Users/divyanshraj/anaconda/lib/python3.5/site-packages/sklearn/multiclass.py:70: UserWarning: Label not 657 is present in all training examples.\n",
      "  str(classes[c]))\n",
      "/Users/divyanshraj/anaconda/lib/python3.5/site-packages/sklearn/multiclass.py:70: UserWarning: Label not 659 is present in all training examples.\n",
      "  str(classes[c]))\n",
      "/Users/divyanshraj/anaconda/lib/python3.5/site-packages/sklearn/multiclass.py:70: UserWarning: Label not 666 is present in all training examples.\n",
      "  str(classes[c]))\n",
      "/Users/divyanshraj/anaconda/lib/python3.5/site-packages/sklearn/multiclass.py:70: UserWarning: Label not 675 is present in all training examples.\n",
      "  str(classes[c]))\n",
      "/Users/divyanshraj/anaconda/lib/python3.5/site-packages/sklearn/multiclass.py:70: UserWarning: Label not 712 is present in all training examples.\n",
      "  str(classes[c]))\n",
      "/Users/divyanshraj/anaconda/lib/python3.5/site-packages/sklearn/multiclass.py:70: UserWarning: Label not 717 is present in all training examples.\n",
      "  str(classes[c]))\n",
      "/Users/divyanshraj/anaconda/lib/python3.5/site-packages/sklearn/multiclass.py:70: UserWarning: Label not 781 is present in all training examples.\n",
      "  str(classes[c]))\n",
      "/Users/divyanshraj/anaconda/lib/python3.5/site-packages/sklearn/multiclass.py:70: UserWarning: Label not 795 is present in all training examples.\n",
      "  str(classes[c]))\n",
      "/Users/divyanshraj/anaconda/lib/python3.5/site-packages/sklearn/multiclass.py:70: UserWarning: Label not 912 is present in all training examples.\n",
      "  str(classes[c]))\n",
      "/Users/divyanshraj/anaconda/lib/python3.5/site-packages/sklearn/multiclass.py:70: UserWarning: Label not 932 is present in all training examples.\n",
      "  str(classes[c]))\n",
      "/Users/divyanshraj/anaconda/lib/python3.5/site-packages/sklearn/multiclass.py:70: UserWarning: Label not 992 is present in all training examples.\n",
      "  str(classes[c]))\n",
      "/Users/divyanshraj/anaconda/lib/python3.5/site-packages/sklearn/multiclass.py:70: UserWarning: Label not 1026 is present in all training examples.\n",
      "  str(classes[c]))\n",
      "/Users/divyanshraj/anaconda/lib/python3.5/site-packages/sklearn/multiclass.py:70: UserWarning: Label not 1044 is present in all training examples.\n",
      "  str(classes[c]))\n",
      "/Users/divyanshraj/anaconda/lib/python3.5/site-packages/sklearn/multiclass.py:70: UserWarning: Label not 1045 is present in all training examples.\n",
      "  str(classes[c]))\n",
      "/Users/divyanshraj/anaconda/lib/python3.5/site-packages/sklearn/multiclass.py:70: UserWarning: Label not 1065 is present in all training examples.\n",
      "  str(classes[c]))\n",
      "/Users/divyanshraj/anaconda/lib/python3.5/site-packages/sklearn/multiclass.py:70: UserWarning: Label not 1083 is present in all training examples.\n",
      "  str(classes[c]))\n",
      "/Users/divyanshraj/anaconda/lib/python3.5/site-packages/sklearn/multiclass.py:70: UserWarning: Label not 1090 is present in all training examples.\n",
      "  str(classes[c]))\n",
      "/Users/divyanshraj/anaconda/lib/python3.5/site-packages/sklearn/multiclass.py:70: UserWarning: Label not 1102 is present in all training examples.\n",
      "  str(classes[c]))\n",
      "/Users/divyanshraj/anaconda/lib/python3.5/site-packages/sklearn/multiclass.py:70: UserWarning: Label not 1115 is present in all training examples.\n",
      "  str(classes[c]))\n",
      "/Users/divyanshraj/anaconda/lib/python3.5/site-packages/sklearn/multiclass.py:70: UserWarning: Label not 1130 is present in all training examples.\n",
      "  str(classes[c]))\n",
      "/Users/divyanshraj/anaconda/lib/python3.5/site-packages/sklearn/multiclass.py:70: UserWarning: Label not 1138 is present in all training examples.\n",
      "  str(classes[c]))\n",
      "/Users/divyanshraj/anaconda/lib/python3.5/site-packages/sklearn/multiclass.py:70: UserWarning: Label not 1148 is present in all training examples.\n",
      "  str(classes[c]))\n",
      "/Users/divyanshraj/anaconda/lib/python3.5/site-packages/sklearn/multiclass.py:70: UserWarning: Label not 1215 is present in all training examples.\n",
      "  str(classes[c]))\n",
      "/Users/divyanshraj/anaconda/lib/python3.5/site-packages/sklearn/multiclass.py:70: UserWarning: Label not 1291 is present in all training examples.\n",
      "  str(classes[c]))\n",
      "/Users/divyanshraj/anaconda/lib/python3.5/site-packages/sklearn/multiclass.py:70: UserWarning: Label not 1311 is present in all training examples.\n",
      "  str(classes[c]))\n",
      "/Users/divyanshraj/anaconda/lib/python3.5/site-packages/sklearn/multiclass.py:70: UserWarning: Label not 1327 is present in all training examples.\n",
      "  str(classes[c]))\n",
      "/Users/divyanshraj/anaconda/lib/python3.5/site-packages/sklearn/multiclass.py:70: UserWarning: Label not 1342 is present in all training examples.\n",
      "  str(classes[c]))\n",
      "/Users/divyanshraj/anaconda/lib/python3.5/site-packages/sklearn/multiclass.py:70: UserWarning: Label not 1422 is present in all training examples.\n",
      "  str(classes[c]))\n",
      "/Users/divyanshraj/anaconda/lib/python3.5/site-packages/sklearn/multiclass.py:70: UserWarning: Label not 1441 is present in all training examples.\n",
      "  str(classes[c]))\n",
      "/Users/divyanshraj/anaconda/lib/python3.5/site-packages/sklearn/multiclass.py:70: UserWarning: Label not 1458 is present in all training examples.\n",
      "  str(classes[c]))\n",
      "/Users/divyanshraj/anaconda/lib/python3.5/site-packages/sklearn/multiclass.py:70: UserWarning: Label not 1461 is present in all training examples.\n",
      "  str(classes[c]))\n",
      "/Users/divyanshraj/anaconda/lib/python3.5/site-packages/sklearn/multiclass.py:70: UserWarning: Label not 1477 is present in all training examples.\n",
      "  str(classes[c]))\n",
      "/Users/divyanshraj/anaconda/lib/python3.5/site-packages/sklearn/multiclass.py:70: UserWarning: Label not 1486 is present in all training examples.\n",
      "  str(classes[c]))\n",
      "/Users/divyanshraj/anaconda/lib/python3.5/site-packages/sklearn/multiclass.py:70: UserWarning: Label not 1488 is present in all training examples.\n",
      "  str(classes[c]))\n",
      "/Users/divyanshraj/anaconda/lib/python3.5/site-packages/sklearn/multiclass.py:70: UserWarning: Label not 1499 is present in all training examples.\n",
      "  str(classes[c]))\n",
      "/Users/divyanshraj/anaconda/lib/python3.5/site-packages/sklearn/multiclass.py:70: UserWarning: Label not 1506 is present in all training examples.\n",
      "  str(classes[c]))\n",
      "/Users/divyanshraj/anaconda/lib/python3.5/site-packages/sklearn/multiclass.py:70: UserWarning: Label not 1512 is present in all training examples.\n",
      "  str(classes[c]))\n",
      "/Users/divyanshraj/anaconda/lib/python3.5/site-packages/sklearn/multiclass.py:70: UserWarning: Label not 1514 is present in all training examples.\n",
      "  str(classes[c]))\n",
      "/Users/divyanshraj/anaconda/lib/python3.5/site-packages/sklearn/multiclass.py:70: UserWarning: Label not 1526 is present in all training examples.\n",
      "  str(classes[c]))\n",
      "/Users/divyanshraj/anaconda/lib/python3.5/site-packages/sklearn/multiclass.py:70: UserWarning: Label not 1527 is present in all training examples.\n",
      "  str(classes[c]))\n",
      "/Users/divyanshraj/anaconda/lib/python3.5/site-packages/sklearn/multiclass.py:70: UserWarning: Label not 1533 is present in all training examples.\n",
      "  str(classes[c]))\n",
      "/Users/divyanshraj/anaconda/lib/python3.5/site-packages/sklearn/multiclass.py:70: UserWarning: Label not 1534 is present in all training examples.\n",
      "  str(classes[c]))\n",
      "/Users/divyanshraj/anaconda/lib/python3.5/site-packages/sklearn/multiclass.py:70: UserWarning: Label not 1544 is present in all training examples.\n",
      "  str(classes[c]))\n",
      "/Users/divyanshraj/anaconda/lib/python3.5/site-packages/sklearn/multiclass.py:70: UserWarning: Label not 1551 is present in all training examples.\n",
      "  str(classes[c]))\n",
      "/Users/divyanshraj/anaconda/lib/python3.5/site-packages/sklearn/multiclass.py:70: UserWarning: Label not 1565 is present in all training examples.\n",
      "  str(classes[c]))\n",
      "/Users/divyanshraj/anaconda/lib/python3.5/site-packages/sklearn/multiclass.py:70: UserWarning: Label not 1568 is present in all training examples.\n",
      "  str(classes[c]))\n",
      "/Users/divyanshraj/anaconda/lib/python3.5/site-packages/sklearn/multiclass.py:70: UserWarning: Label not 1585 is present in all training examples.\n",
      "  str(classes[c]))\n",
      "/Users/divyanshraj/anaconda/lib/python3.5/site-packages/sklearn/multiclass.py:70: UserWarning: Label not 1591 is present in all training examples.\n",
      "  str(classes[c]))\n",
      "/Users/divyanshraj/anaconda/lib/python3.5/site-packages/sklearn/multiclass.py:70: UserWarning: Label not 1629 is present in all training examples.\n",
      "  str(classes[c]))\n",
      "/Users/divyanshraj/anaconda/lib/python3.5/site-packages/sklearn/multiclass.py:70: UserWarning: Label not 1647 is present in all training examples.\n",
      "  str(classes[c]))\n",
      "/Users/divyanshraj/anaconda/lib/python3.5/site-packages/sklearn/multiclass.py:70: UserWarning: Label not 1649 is present in all training examples.\n",
      "  str(classes[c]))\n",
      "/Users/divyanshraj/anaconda/lib/python3.5/site-packages/sklearn/multiclass.py:70: UserWarning: Label not 1652 is present in all training examples.\n",
      "  str(classes[c]))\n",
      "/Users/divyanshraj/anaconda/lib/python3.5/site-packages/sklearn/multiclass.py:70: UserWarning: Label not 1655 is present in all training examples.\n",
      "  str(classes[c]))\n",
      "/Users/divyanshraj/anaconda/lib/python3.5/site-packages/sklearn/multiclass.py:70: UserWarning: Label not 1665 is present in all training examples.\n",
      "  str(classes[c]))\n",
      "/Users/divyanshraj/anaconda/lib/python3.5/site-packages/sklearn/multiclass.py:70: UserWarning: Label not 1667 is present in all training examples.\n",
      "  str(classes[c]))\n",
      "/Users/divyanshraj/anaconda/lib/python3.5/site-packages/sklearn/multiclass.py:70: UserWarning: Label not 1698 is present in all training examples.\n",
      "  str(classes[c]))\n",
      "/Users/divyanshraj/anaconda/lib/python3.5/site-packages/sklearn/multiclass.py:70: UserWarning: Label not 1707 is present in all training examples.\n",
      "  str(classes[c]))\n",
      "/Users/divyanshraj/anaconda/lib/python3.5/site-packages/sklearn/multiclass.py:70: UserWarning: Label not 1767 is present in all training examples.\n",
      "  str(classes[c]))\n",
      "/Users/divyanshraj/anaconda/lib/python3.5/site-packages/sklearn/multiclass.py:70: UserWarning: Label not 1772 is present in all training examples.\n",
      "  str(classes[c]))\n",
      "/Users/divyanshraj/anaconda/lib/python3.5/site-packages/sklearn/multiclass.py:70: UserWarning: Label not 1815 is present in all training examples.\n",
      "  str(classes[c]))\n",
      "/Users/divyanshraj/anaconda/lib/python3.5/site-packages/sklearn/multiclass.py:70: UserWarning: Label not 1825 is present in all training examples.\n",
      "  str(classes[c]))\n",
      "/Users/divyanshraj/anaconda/lib/python3.5/site-packages/sklearn/multiclass.py:70: UserWarning: Label not 1829 is present in all training examples.\n",
      "  str(classes[c]))\n",
      "/Users/divyanshraj/anaconda/lib/python3.5/site-packages/sklearn/multiclass.py:70: UserWarning: Label not 1830 is present in all training examples.\n",
      "  str(classes[c]))\n",
      "/Users/divyanshraj/anaconda/lib/python3.5/site-packages/sklearn/multiclass.py:70: UserWarning: Label not 1834 is present in all training examples.\n",
      "  str(classes[c]))\n",
      "/Users/divyanshraj/anaconda/lib/python3.5/site-packages/sklearn/multiclass.py:70: UserWarning: Label not 1842 is present in all training examples.\n",
      "  str(classes[c]))\n",
      "/Users/divyanshraj/anaconda/lib/python3.5/site-packages/sklearn/multiclass.py:70: UserWarning: Label not 1878 is present in all training examples.\n",
      "  str(classes[c]))\n",
      "/Users/divyanshraj/anaconda/lib/python3.5/site-packages/sklearn/multiclass.py:70: UserWarning: Label not 1887 is present in all training examples.\n",
      "  str(classes[c]))\n",
      "/Users/divyanshraj/anaconda/lib/python3.5/site-packages/sklearn/multiclass.py:70: UserWarning: Label not 1900 is present in all training examples.\n",
      "  str(classes[c]))\n",
      "/Users/divyanshraj/anaconda/lib/python3.5/site-packages/sklearn/multiclass.py:70: UserWarning: Label not 1935 is present in all training examples.\n",
      "  str(classes[c]))\n",
      "/Users/divyanshraj/anaconda/lib/python3.5/site-packages/sklearn/multiclass.py:70: UserWarning: Label not 1939 is present in all training examples.\n",
      "  str(classes[c]))\n",
      "/Users/divyanshraj/anaconda/lib/python3.5/site-packages/sklearn/multiclass.py:70: UserWarning: Label not 1950 is present in all training examples.\n",
      "  str(classes[c]))\n",
      "/Users/divyanshraj/anaconda/lib/python3.5/site-packages/sklearn/multiclass.py:70: UserWarning: Label not 1997 is present in all training examples.\n",
      "  str(classes[c]))\n",
      "/Users/divyanshraj/anaconda/lib/python3.5/site-packages/sklearn/multiclass.py:70: UserWarning: Label not 2010 is present in all training examples.\n",
      "  str(classes[c]))\n",
      "/Users/divyanshraj/anaconda/lib/python3.5/site-packages/sklearn/multiclass.py:70: UserWarning: Label not 2016 is present in all training examples.\n",
      "  str(classes[c]))\n",
      "/Users/divyanshraj/anaconda/lib/python3.5/site-packages/sklearn/multiclass.py:70: UserWarning: Label not 2025 is present in all training examples.\n",
      "  str(classes[c]))\n",
      "/Users/divyanshraj/anaconda/lib/python3.5/site-packages/sklearn/multiclass.py:70: UserWarning: Label not 2042 is present in all training examples.\n",
      "  str(classes[c]))\n",
      "/Users/divyanshraj/anaconda/lib/python3.5/site-packages/sklearn/multiclass.py:70: UserWarning: Label not 2058 is present in all training examples.\n",
      "  str(classes[c]))\n",
      "/Users/divyanshraj/anaconda/lib/python3.5/site-packages/sklearn/multiclass.py:70: UserWarning: Label not 2072 is present in all training examples.\n",
      "  str(classes[c]))\n",
      "/Users/divyanshraj/anaconda/lib/python3.5/site-packages/sklearn/multiclass.py:70: UserWarning: Label not 2088 is present in all training examples.\n",
      "  str(classes[c]))\n",
      "/Users/divyanshraj/anaconda/lib/python3.5/site-packages/sklearn/multiclass.py:70: UserWarning: Label not 2095 is present in all training examples.\n",
      "  str(classes[c]))\n"
     ]
    },
    {
     "data": {
      "text/plain": [
       "OneVsRestClassifier(estimator=LogisticRegression(C=1.0, class_weight=None, dual=False, fit_intercept=True,\n",
       "          intercept_scaling=1, max_iter=100, multi_class='ovr', n_jobs=1,\n",
       "          penalty='l2', random_state=None, solver='liblinear', tol=0.0001,\n",
       "          verbose=0, warm_start=False),\n",
       "          n_jobs=1)"
      ]
     },
     "execution_count": 60,
     "metadata": {},
     "output_type": "execute_result"
    }
   ],
   "source": [
    "# fit model on train data\n",
    "clf.fit(xtrain_tfidf,ytrain)"
   ]
  },
  {
   "cell_type": "code",
   "execution_count": null,
   "metadata": {
    "collapsed": true
   },
   "outputs": [],
   "source": [
    "#While training the data we will see some warnings which indicate that some particular low frequency labels are missing\n",
    "#from our training set. This is because when we split our data in training and validation set , there might be few \n",
    "#low frequecy tags which may not even occur once in out training set."
   ]
  },
  {
   "cell_type": "code",
   "execution_count": null,
   "metadata": {
    "collapsed": true
   },
   "outputs": [],
   "source": [
    "#Predict movie genres on the validation set:"
   ]
  },
  {
   "cell_type": "code",
   "execution_count": 61,
   "metadata": {
    "collapsed": false
   },
   "outputs": [],
   "source": [
    "# make predictions for validation set\n",
    "y_pred_proba = clf.predict_proba(xval_tfidf)"
   ]
  },
  {
   "cell_type": "code",
   "execution_count": 62,
   "metadata": {
    "collapsed": false
   },
   "outputs": [
    {
     "name": "stdout",
     "output_type": "stream",
     "text": [
      "[0.5110071229340033, 0.49521966765308445, 0.45989812383332812, 0.42134183569635708, 0.38305801411832158, 0.34015807301467821, 0.29606064176583796, 0.24779848453819378, 0.18268651579037945]\n"
     ]
    },
    {
     "data": {
      "text/plain": [
       "Text(0, 0.5, 'f1_score')"
      ]
     },
     "execution_count": 62,
     "metadata": {},
     "output_type": "execute_result"
    },
    {
     "data": {
      "image/png": "[encoded data removed]",
      "text/plain": [
       "<Figure size 432x288 with 1 Axes>"
      ]
     },
     "metadata": {
      "needs_background": "light"
     },
     "output_type": "display_data"
    }
   ],
   "source": [
    "#selecting the best threshold probability \n",
    "t = [0.1,0.2,0.3,0.4,0.5,0.6,0.7,0.8,0.9] # threshold values\n",
    "f1 = []\n",
    "for i in t:\n",
    "    y_pred = (y_pred_proba >= i).astype(int)\n",
    "    f1.append(f1_score(yval, y_pred, average=\"micro\"))\n",
    "\n",
    "print(f1)\n",
    "plt.plot(t,f1)\n",
    "plt.xlabel('threshold probability')\n",
    "plt.ylabel('f1_score')"
   ]
  },
  {
   "cell_type": "code",
   "execution_count": null,
   "metadata": {
    "collapsed": true
   },
   "outputs": [],
   "source": [
    "#Now set the threshold value equal to the threshold corresponding to which we got the highest f1 score"
   ]
  },
  {
   "cell_type": "code",
   "execution_count": 63,
   "metadata": {
    "collapsed": false
   },
   "outputs": [],
   "source": [
    "t = 0.1 #threshold value\n",
    "y_pred = (y_pred_proba >= t).astype(int)\n",
    "\n"
   ]
  },
  {
   "cell_type": "code",
   "execution_count": 70,
   "metadata": {
    "collapsed": false
   },
   "outputs": [
    {
     "data": {
      "text/plain": [
       "array([0, 0, 0, 0, 0, 0, 0, 0, 0, 0, 0, 0, 0, 0, 0, 0, 0, 0, 0, 0, 0, 0, 0,\n",
       "       0, 0, 0, 0, 0, 0, 0, 0, 0, 0, 0, 0, 0, 0, 0, 0, 0, 0, 0, 0, 0, 0, 0,\n",
       "       0, 0, 0, 0, 0, 0, 0, 0, 0, 0, 0, 0, 0, 0, 0, 0, 0, 0, 0, 0, 0, 0, 0,\n",
       "       0, 0, 0, 0, 0, 0, 0, 0, 0, 0, 0, 0, 0, 0, 0, 0, 0, 0, 0, 0, 0, 0, 0,\n",
       "       0, 0, 0, 0, 0, 0, 0, 0, 0, 0, 0, 0, 0, 0, 0, 0, 0, 0, 0, 0, 0, 0, 0,\n",
       "       0, 0, 0, 0, 0, 0, 0, 0, 0, 0, 0, 0, 0, 0, 0, 1, 0, 0, 0, 0, 0, 0, 0,\n",
       "       0, 0, 0, 0, 0, 0, 0, 0, 0, 0, 0, 0, 0, 0, 0, 0, 0, 0, 0, 0, 0, 0, 0,\n",
       "       0, 0, 0, 0, 0, 0, 0, 0, 0, 0, 0, 0, 0, 0, 0, 0, 0, 0, 0, 0, 0, 0, 0,\n",
       "       0, 0, 0, 0, 0, 0, 0, 0, 0, 0, 0, 0, 0, 0, 0, 0, 0, 0, 0, 0, 0, 0, 0,\n",
       "       0, 0, 0, 0, 0, 0, 0, 0, 0, 0, 0, 0, 0, 0, 0, 0, 0, 0, 0, 0, 0, 0, 0,\n",
       "       0, 0, 0, 0, 0, 0, 0, 0, 0, 0, 0, 0, 0, 0, 0, 0, 0, 0, 0, 0, 0, 0, 0,\n",
       "       0, 0, 0, 0, 0, 0, 0, 0, 0, 0, 0, 0, 0, 0, 0, 0, 0, 0, 0, 0, 0, 0, 0,\n",
       "       0, 0, 0, 0, 0, 0, 0, 0, 0, 0, 0, 0, 0, 0, 0, 0, 0, 0, 0, 0, 0, 0, 0,\n",
       "       0, 0, 0, 0, 0, 0, 0, 0, 0, 0, 0, 0, 0, 0, 0, 0, 0, 0, 0, 0, 0, 0, 0,\n",
       "       0, 0, 0, 0, 0, 0, 0, 0, 0, 0, 0, 0, 0, 0, 0, 0, 0, 0, 0, 0, 0, 0, 0,\n",
       "       0, 0, 0, 0, 0, 0, 0, 0, 0, 0, 0, 0, 0, 0, 0, 0, 0, 0, 0, 0, 0, 0, 0,\n",
       "       0, 0, 0, 0, 0, 0, 0, 0, 0, 0, 0, 0, 0, 0, 0, 0, 0, 0, 0, 0, 0, 0, 0,\n",
       "       0, 0, 0, 0, 0, 0, 0, 0, 0, 0, 0, 0, 0, 0, 0, 0, 0, 0, 0, 0, 0, 0, 0,\n",
       "       0, 0, 0, 0, 0, 0, 0, 0, 0, 0, 0, 0, 0, 0, 0, 0, 0, 0, 0, 0, 0, 0, 0,\n",
       "       0, 0, 0, 0, 0, 0, 0, 0, 0, 0, 0, 0, 0, 0, 0, 0, 0, 0, 0, 0, 0, 0, 0,\n",
       "       0, 0, 0, 0, 0, 0, 0, 0, 0, 0, 0, 0, 0, 0, 0, 0, 0, 0, 0, 0, 0, 0, 0,\n",
       "       0, 0, 0, 0, 0, 0, 0, 0, 0, 0, 0, 0, 0, 0, 0, 0, 0, 0, 0, 0, 0, 0, 0,\n",
       "       0, 0, 0, 0, 0, 0, 0, 0, 0, 0, 0, 0, 0, 0, 0, 0, 0, 0, 0, 0, 0, 0, 0,\n",
       "       0, 0, 0, 0, 0, 0, 0, 0, 0, 0, 0, 0, 0, 0, 0, 0, 0, 0, 0, 0, 0, 0, 0,\n",
       "       0, 0, 0, 0, 0, 0, 0, 0, 0, 0, 0, 0, 0, 0, 0, 0, 0, 0, 0, 0, 0, 0, 0,\n",
       "       0, 0, 0, 0, 0, 0, 0, 0, 0, 0, 0, 0, 0, 0, 0, 0, 0, 0, 0, 0, 0, 0, 0,\n",
       "       0, 0, 0, 0, 0, 0, 0, 0, 0, 0, 0, 0, 0, 0, 0, 0, 0, 0, 0, 0, 0, 0, 0,\n",
       "       0, 0, 0, 0, 0, 0, 0, 0, 0, 0, 0, 0, 0, 0, 0, 0, 0, 0, 0, 0, 0, 0, 0,\n",
       "       0, 0, 0, 0, 0, 0, 0, 0, 0, 0, 0, 0, 0, 0, 0, 0, 0, 0, 0, 0, 0, 0, 0,\n",
       "       0, 0, 0, 0, 0, 0, 0, 0, 0, 0, 0, 0, 0, 0, 0, 0, 0, 0, 0, 0, 0, 0, 0,\n",
       "       0, 0, 0, 0, 0, 0, 0, 0, 0, 0, 0, 0, 0, 0, 0, 0, 0, 0, 0, 0, 0, 0, 0,\n",
       "       0, 0, 0, 0, 0, 0, 0, 0, 0, 0, 0, 0, 0, 0, 0, 0, 0, 0, 0, 0, 0, 0, 0,\n",
       "       0, 0, 0, 0, 0, 0, 0, 0, 0, 0, 0, 0, 0, 0, 0, 0, 0, 0, 0, 0, 0, 0, 0,\n",
       "       0, 0, 0, 0, 0, 0, 0, 0, 0, 0, 0, 0, 0, 0, 0, 0, 0, 0, 0, 0, 0, 0, 0,\n",
       "       0, 0, 0, 0, 0, 0, 0, 0, 0, 0, 0, 0, 0, 0, 0, 0, 0, 0, 0, 0, 0, 0, 0,\n",
       "       0, 0, 0, 0, 0, 0, 0, 0, 0, 0, 0, 0, 0, 0, 0, 0, 0, 0, 0, 0, 0, 0, 0,\n",
       "       0, 0, 0, 0, 0, 0, 0, 0, 0, 0, 0, 0, 0, 0, 0, 0, 0, 0, 0, 0, 0, 0, 0,\n",
       "       0, 0, 0, 0, 0, 0, 0, 0, 0, 0, 0, 0, 0, 0, 0, 0, 0, 0, 0, 0, 0, 0, 0,\n",
       "       0, 0, 0, 0, 0, 0, 0, 0, 0, 0, 0, 0, 0, 0, 0, 0, 0, 0, 0, 0, 0, 0, 0,\n",
       "       0, 0, 0, 0, 0, 0, 0, 0, 0, 0, 0, 0, 0, 0, 0, 0, 0, 0, 0, 0, 0, 0, 0,\n",
       "       0, 0, 0, 0, 0, 0, 0, 0, 0, 0, 0, 0, 0, 0, 0, 0, 0, 0, 0, 0, 0, 0, 0,\n",
       "       0, 0, 0, 0, 0, 0, 0, 0, 0, 0, 0, 0, 0, 0, 0, 0, 0, 0, 0, 0, 0, 0, 0,\n",
       "       0, 0, 0, 0, 0, 0, 0, 0, 0, 0, 0, 0, 0, 0, 0, 0, 0, 0, 0, 0, 0, 0, 0,\n",
       "       0, 0, 0, 0, 0, 0, 0, 0, 0, 0, 0, 0, 0, 0, 0, 0, 0, 0, 0, 0, 0, 0, 0,\n",
       "       0, 0, 0, 0, 0, 0, 0, 0, 0, 0, 0, 0, 0, 0, 0, 0, 0, 0, 0, 0, 0, 0, 0,\n",
       "       0, 0, 0, 0, 0, 0, 0, 0, 0, 0, 0, 0, 0, 0, 0, 0, 0, 0, 0, 0, 0, 0, 0,\n",
       "       0, 0, 0, 0, 0, 0, 0, 0, 0, 0, 0, 0, 0, 0, 0, 0, 0, 0, 0, 0, 0, 0, 0,\n",
       "       0, 0, 0, 0, 0, 0, 0, 0, 0, 0, 0, 0, 0, 0, 0, 0, 0, 0, 0, 0, 0, 0, 0,\n",
       "       0, 0, 0, 0, 0, 0, 0, 0, 0, 0, 0, 0, 0, 0, 0, 0, 0, 0, 0, 0, 0, 0, 0,\n",
       "       0, 0, 0, 0, 0, 0, 0, 0, 0, 0, 0, 0, 0, 0, 0, 0, 0, 0, 0, 0, 0, 0, 0,\n",
       "       0, 0, 0, 0, 0, 0, 0, 0, 0, 0, 0, 0, 0, 0, 0, 0, 0, 0, 0, 0, 0, 0, 0,\n",
       "       0, 0, 0, 0, 0, 0, 0, 0, 0, 0, 0, 0, 0, 0, 0, 0, 0, 0, 0, 0, 0, 0, 0,\n",
       "       0, 0, 0, 0, 0, 0, 0, 0, 0, 0, 0, 0, 0, 0, 0, 0, 0, 0, 0, 0, 0, 0, 0,\n",
       "       0, 0, 0, 0, 0, 0, 0, 0, 0, 0, 0, 0, 0, 0, 0, 0, 0, 0, 0, 0, 0, 0, 0,\n",
       "       0, 0, 0, 0, 0, 0, 0, 0, 0, 0, 0, 0, 0, 0, 0, 0, 0, 0, 0, 0, 0, 0, 0,\n",
       "       0, 0, 0, 0, 0, 0, 0, 0, 0, 0, 0, 0, 0, 0, 0, 0, 0, 0, 0, 0, 0, 0, 0,\n",
       "       0, 0, 0, 0, 0, 0, 0, 0, 0, 0, 0, 0, 0, 0, 0, 0, 0, 0, 0, 0, 0, 0, 0,\n",
       "       0, 0, 0, 0, 0, 0, 0, 0, 0, 0, 0, 0, 0, 0, 0, 0, 0, 0, 0, 0, 0, 0, 0,\n",
       "       0, 0, 0, 0, 0, 0, 0, 0, 0, 0, 0, 0, 0, 0, 0, 0, 0, 0, 0, 0, 0, 0, 0,\n",
       "       0, 0, 0, 0, 0, 0, 0, 0, 0, 0, 0, 0, 0, 0, 0, 0, 0, 0, 0, 0, 0, 0, 0,\n",
       "       0, 0, 0, 0, 0, 0, 0, 0, 0, 0, 0, 0, 0, 0, 0, 0, 0, 0, 0, 0, 0, 0, 0,\n",
       "       0, 0, 0, 0, 0, 0, 0, 0, 0, 0, 0, 0, 0, 0, 0, 0, 0, 0, 0, 0, 0, 0, 0,\n",
       "       0, 0, 0, 0, 0, 0, 0, 0, 0, 0, 0, 0, 0, 0, 0, 0, 0, 0, 0, 0, 0, 0, 0,\n",
       "       0, 0, 0, 0, 0, 0, 0, 0, 0, 0, 0, 0, 0, 0, 0, 0, 0, 0, 0, 0, 0, 0, 0,\n",
       "       0, 0, 0, 0, 0, 0, 0, 0, 0, 0, 0, 0, 0, 0, 0, 0, 0, 0, 0, 0, 0, 0, 0,\n",
       "       0, 0, 0, 0, 0, 0, 0, 0, 0, 0, 0, 0, 0, 0, 0, 0, 0, 0, 0, 0, 0, 0, 0,\n",
       "       0, 0, 0, 0, 0, 0, 0, 0, 0, 0, 0, 0, 0, 0, 0, 0, 0, 0, 0, 0, 0, 0, 0,\n",
       "       0, 0, 0, 0, 0, 0, 0, 0, 0, 0, 0, 0, 0, 0, 0, 0, 0, 0, 0, 0, 0, 0, 0,\n",
       "       0, 0, 0, 0, 0, 0, 0, 0, 0, 0, 0, 0, 0, 0, 0, 0, 0, 0, 0, 0, 0, 0, 0,\n",
       "       0, 0, 0, 0, 0, 0, 0, 0, 0, 0, 0, 0, 0, 0, 0, 0, 0, 0, 0, 0, 0, 0, 0,\n",
       "       0, 0, 0, 0, 0, 0, 0, 0, 0, 0, 0, 0, 0, 0, 0, 0, 0, 0, 0, 0, 0, 0, 0,\n",
       "       0, 0, 0, 0, 0, 0, 0, 0, 0, 0, 0, 0, 0, 0, 0, 0, 0, 0, 0, 0, 0, 0, 0,\n",
       "       0, 0, 0, 0, 0, 0, 0, 0, 0, 0, 0, 0, 0, 0, 0, 0, 0, 0, 0, 0, 0, 0, 0,\n",
       "       0, 0, 0, 0, 0, 0, 0, 0, 0, 0, 0, 0, 0, 0, 0, 0, 0, 0, 0, 0, 0, 0, 0,\n",
       "       0, 0, 0, 0, 0, 0, 0, 0, 0, 0, 0, 0, 0, 0, 0, 0, 0, 0, 0, 0, 0, 0, 0,\n",
       "       0, 0, 0, 0, 0, 0, 0, 0, 0, 0, 0, 0, 0, 0, 0, 0, 0, 0, 0, 0, 0, 0, 0,\n",
       "       0, 0, 0, 0, 0, 0, 0, 0, 0, 0, 0, 0, 0, 0, 0, 0, 0, 0, 0, 0, 0, 0, 0,\n",
       "       0, 0, 0, 0, 0, 0, 0, 0, 0, 0, 0, 0, 0, 0, 0, 0, 0, 0, 0, 0, 0, 0, 0,\n",
       "       0, 0, 0, 0, 0, 0, 0, 0, 0, 0, 0, 0, 0, 0, 0, 0, 0, 0, 0, 0, 0, 0, 0,\n",
       "       0, 0, 0, 0, 0, 0, 0, 0, 0, 0, 0, 0, 0, 0, 0, 0, 0, 0, 0, 0, 0, 0, 0,\n",
       "       0, 0, 0, 0, 0, 0, 0, 0, 0, 0, 0, 0, 0, 0, 0, 0, 0, 0, 0, 0, 0, 0, 0,\n",
       "       0, 0, 0, 0, 0, 0, 0, 0, 0, 0, 0, 0, 0, 0, 0, 0, 0, 0, 0, 0, 0, 0, 0,\n",
       "       0, 0, 0, 0, 0, 0, 0, 0, 0, 0, 0, 0, 0, 0, 0, 0, 0, 0, 0, 0, 0, 0, 0,\n",
       "       0, 0, 0, 0, 0, 0, 0, 0, 0, 0, 0, 0, 0, 0, 0, 0, 0, 0, 0, 0, 0, 0, 0,\n",
       "       0, 0, 0, 0, 0, 0, 0, 0, 0, 0, 0, 0, 0, 0, 0, 0, 0, 0, 0, 0, 0, 0, 0,\n",
       "       0, 0, 0, 0, 0, 0, 0, 0, 0, 0, 0, 0, 0, 0, 0, 0, 0, 0, 0, 0, 0, 0, 0,\n",
       "       0, 0, 0, 0, 0, 0, 0, 0, 0, 0, 0, 0, 0, 0, 0, 0, 0, 0, 0, 0, 0, 0, 0,\n",
       "       0, 0, 0, 0, 0, 0, 0, 0, 0, 0, 0, 0, 0, 0, 0, 0, 0, 0, 0, 0, 0, 0, 0,\n",
       "       0, 0, 0, 0, 0, 0, 0, 0, 0, 0, 0, 0, 0, 0, 0, 0, 0, 0, 0, 0, 0, 0, 0,\n",
       "       0, 0, 0, 0, 0, 0, 0, 0, 0, 0, 0, 0, 0, 0, 0, 0, 0, 0, 0, 0, 0, 0, 0,\n",
       "       0, 0, 0, 0, 0, 0, 0, 0, 0, 0, 0, 0, 0, 0, 0, 0, 0, 0, 0, 0, 0, 0, 0,\n",
       "       0, 0, 0, 0, 0, 0, 0, 0, 0, 0, 0, 0, 0, 0, 0, 0, 0, 0, 0, 0, 0, 0, 0])"
      ]
     },
     "execution_count": 70,
     "metadata": {},
     "output_type": "execute_result"
    }
   ],
   "source": [
    "np.set_printoptions(threshold=np.inf)#to print the entire array and not a truncated form of the array \n",
    "\n",
    "np.array(y_pred[3])\n"
   ]
  },
  {
   "cell_type": "code",
   "execution_count": 68,
   "metadata": {
    "collapsed": true
   },
   "outputs": [],
   "source": [
    "#It is a binary one-dimensional array of length 2117. Basically, it is the one-hot encoded form of the unique labels. \n",
    "#We will have to find a way to convert it into  result labels.\n",
    "\n",
    "# We will use the inverse_transform( ) function along with the MultiLabelBinarizer( ) object to convert the predicted \n",
    "#arrays into result label tags:\n",
    "\n"
   ]
  },
  {
   "cell_type": "code",
   "execution_count": 64,
   "metadata": {
    "collapsed": false
   },
   "outputs": [
    {
     "data": {
      "text/plain": [
       "('Caring for Infants (0-1 yrs)',)"
      ]
     },
     "execution_count": 64,
     "metadata": {},
     "output_type": "execute_result"
    }
   ],
   "source": [
    "multilabel_binarizer.inverse_transform(y_pred)[1003]\n"
   ]
  },
  {
   "cell_type": "code",
   "execution_count": 65,
   "metadata": {
    "collapsed": false
   },
   "outputs": [
    {
     "data": {
      "text/plain": [
       "('Caring for Infants (0-1 yrs)',)"
      ]
     },
     "execution_count": 65,
     "metadata": {},
     "output_type": "execute_result"
    }
   ],
   "source": [
    "multilabel_binarizer.inverse_transform(yval)[1003]\n",
    "\n"
   ]
  },
  {
   "cell_type": "code",
   "execution_count": 41,
   "metadata": {
    "collapsed": false
   },
   "outputs": [
    {
     "data": {
      "text/plain": [
       "0.5110071229340033"
      ]
     },
     "execution_count": 41,
     "metadata": {},
     "output_type": "execute_result"
    }
   ],
   "source": [
    "# evaluate performance\n",
    "f1_score(yval, y_pred, average=\"micro\")"
   ]
  },
  {
   "cell_type": "code",
   "execution_count": null,
   "metadata": {
    "collapsed": true
   },
   "outputs": [],
   "source": [
    "# We also have to take care of the new data that will come in the future. \n",
    "#Our label prediction system should be able to take a  text body in raw form as input and generate its label tag(s).\n",
    "\n",
    "#To achieve this, we build an inference function. It will take a body text and follow the below steps:\n",
    "\n",
    "#Clean the text\n",
    "#Remove stopwords from the cleaned text\n",
    "#Extract features from the text\n",
    "#Make predictions\n",
    "#Return the predicted movie genre tags\n"
   ]
  },
  {
   "cell_type": "code",
   "execution_count": 71,
   "metadata": {
    "collapsed": true
   },
   "outputs": [],
   "source": [
    "def infer_tags(q):\n",
    "    q = clean_text(q)\n",
    "    q = remove_stopwords(q)\n",
    "    q_vec = tfidf_vectorizer.transform([q])\n",
    "    q_pred = clf.predict(q_vec)\n",
    "    return multilabel_binarizer.inverse_transform(q_pred)"
   ]
  },
  {
   "cell_type": "code",
   "execution_count": null,
   "metadata": {
    "collapsed": true
   },
   "outputs": [],
   "source": [
    "#Let’s test this inference function on a few samples from our validation set:\n"
   ]
  },
  {
   "cell_type": "code",
   "execution_count": 76,
   "metadata": {
    "collapsed": false
   },
   "outputs": [
    {
     "name": "stdout",
     "output_type": "stream",
     "text": [
      "Body:  One of my friends has this issue Pain and little blood coming during stool. \n",
      "Predicted labels:  [('Blood in Stools',)]\n",
      "Actual label:  ['Blood in Stools'] \n",
      "\n",
      "Body:  Is masturbating is bad for the age of 16 if no so how many time can I do in a weak. \n",
      "Predicted labels:  [('Masturbation Addiction',)]\n",
      "Actual label:  ['Masturbation Addiction'] \n",
      "\n",
      "Body:  I am 19 years old. I'm have now 85 kgs weight. But I would like to weight loss upto 75 kgs in 2 months. So please suggest me what to do? \n",
      "Predicted labels:  [('Lose Weight',)]\n",
      "Actual label:  ['Lose Weight'] \n",
      "\n",
      "Body:  Hi, My triglyceride is 194. Suggest me. \n",
      "Predicted labels:  [()]\n",
      "Actual label:  ['High Cholesterol'] \n",
      "\n",
      "Body:  Does viagra increase my sex drive tell me because I am suffering with this two problem premature ejaculations and erectile dysfunction tell me. \n",
      "Predicted labels:  [('Premature Ejaculation',)]\n",
      "Actual label:  ['Premature Ejaculation'] \n",
      "\n"
     ]
    }
   ],
   "source": [
    "for i in range(5): \n",
    "  k = xval.sample(1).index[0] \n",
    "  print(\"Body: \", df_new['body'][k], \"\\nPredicted labels: \", infer_tags(xval[k])), print(\"Actual label: \",df_new['result'][k], \"\\n\")\n"
   ]
  },
  {
   "cell_type": "code",
   "execution_count": null,
   "metadata": {
    "collapsed": true
   },
   "outputs": [],
   "source": []
  }
 ],
 "metadata": {
  "anaconda-cloud": {},
  "kernelspec": {
   "display_name": "Python [conda env:anaconda]",
   "language": "python",
   "name": "conda-env-anaconda-py"
  },
  "language_info": {
   "codemirror_mode": {
    "name": "ipython",
    "version": 3
   },
   "file_extension": ".py",
   "mimetype": "text/x-python",
   "name": "python",
   "nbconvert_exporter": "python",
   "pygments_lexer": "ipython3",
   "version": "3.5.6"
  }
 },
 "nbformat": 4,
 "nbformat_minor": 1
}
